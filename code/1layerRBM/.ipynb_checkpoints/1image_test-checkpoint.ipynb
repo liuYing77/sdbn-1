{
 "cells": [
  {
   "cell_type": "code",
   "execution_count": 147,
   "metadata": {
    "collapsed": true
   },
   "outputs": [],
   "source": [
    "%matplotlib inline\n",
    "import numpy as np\n",
    "import poisson_tools as pt\n",
    "import matplotlib.pyplot as plt\n",
    "from scipy.special import expit"
   ]
  },
  {
   "cell_type": "code",
   "execution_count": 148,
   "metadata": {
    "collapsed": true
   },
   "outputs": [],
   "source": [
    "train_x, train_y = pt.get_train_data()\n",
    "train_x = train_x > 50"
   ]
  },
  {
   "cell_type": "code",
   "execution_count": null,
   "metadata": {
    "collapsed": false
   },
   "outputs": [],
   "source": [
    "#pt.plot_digit(train_x[4])"
   ]
  },
  {
   "cell_type": "code",
   "execution_count": 149,
   "metadata": {
    "collapsed": false
   },
   "outputs": [],
   "source": [
    "digit = 5\n",
    "train_num = 100\n",
    "label_list = np.array(train_y).astype(int)\n",
    "index_digit = np.where(label_list==digit)[0][0:train_num]\n",
    "Data_v = np.array(train_x[index_digit]).astype(float)\n",
    "#print Data_v[0]"
   ]
  },
  {
   "cell_type": "markdown",
   "metadata": {},
   "source": [
    "# Initialisation of W, a and b"
   ]
  },
  {
   "cell_type": "code",
   "execution_count": 150,
   "metadata": {
    "collapsed": false
   },
   "outputs": [],
   "source": [
    "hiden_num = 500\n",
    "W = np.random.normal(0,0.01,Data_v.shape[1]*hiden_num)\n",
    "W = W.reshape((Data_v.shape[1],hiden_num))\n",
    "b = np.zeros(hiden_num)\n",
    "pixel_on = np.sum(Data_v,0)\n",
    "a = np.log((pixel_on + 0.01)/(train_num - pixel_on + 0.01))\n",
    "eta = 0.001"
   ]
  },
  {
   "cell_type": "markdown",
   "metadata": {},
   "source": [
    "# Given V0, get (v0, h0) and (v1, h1)"
   ]
  },
  {
   "cell_type": "code",
   "execution_count": 151,
   "metadata": {
    "collapsed": false
   },
   "outputs": [],
   "source": [
    "def sigmoid_sampling(data, weight, bias):\n",
    "    sum_data = np.dot(data, weight) + bias\n",
    "    prob = expit(sum_data)\n",
    "    rdm = np.random.random(prob.shape)\n",
    "    index_on = rdm < prob\n",
    "    samples = np.zeros(prob.shape)\n",
    "    samples[index_on]=1.\n",
    "    return samples\n",
    "    "
   ]
  },
  {
   "cell_type": "code",
   "execution_count": 152,
   "metadata": {
    "collapsed": false
   },
   "outputs": [],
   "source": [
    "def update_para(v0, h0, v1, h1, a, b, w, eta ):\n",
    "    delta_a = np.zeros(w.shape[0])\n",
    "    delta_b = np.zeros(w.shape[1])\n",
    "    delta_w = np.zeros(w.shape)\n",
    "    batch_size = v0.shape[0]\n",
    "    for k in range(batch_size):\n",
    "        for i in range(w.shape[0]):\n",
    "            delta_a[i] = eta * (v0[k][i] - v1[k][i])\n",
    "        for j in range(w.shape[1]):\n",
    "            delta_b[j] = eta * (h0[k][j] - h1[k][j])\n",
    "        for i in range(w.shape[0]):\n",
    "            for j in range(w.shape[1]):\n",
    "                delta_w[i][j] += eta * (v0[k][i]*h0[k][j] - v1[k][i]*h1[k][j])\n",
    "    a += delta_a/batch_size\n",
    "    b += delta_b/batch_size\n",
    "    w += delta_w/batch_size\n",
    "    return a, b, w"
   ]
  },
  {
   "cell_type": "code",
   "execution_count": 153,
   "metadata": {
    "collapsed": false
   },
   "outputs": [],
   "source": [
    "batch_size = 1\n",
    "for k in range(0,train_num,batch_size):\n",
    "    data_v = Data_v[k:k+batch_size]\n",
    "    data_h = sigmoid_sampling(data_v, W, b)\n",
    "    gibbs_v = sigmoid_sampling(data_h, W.transpose(), a)\n",
    "    gibbs_h = sigmoid_sampling(gibbs_v, W, b)\n",
    "    a, b, W = update_para(data_v, data_h, gibbs_v, gibbs_h, a, b, W, eta)"
   ]
  },
  {
   "cell_type": "code",
   "execution_count": 157,
   "metadata": {
    "collapsed": false
   },
   "outputs": [
    {
     "data": {
      "text/plain": [
       "[0, 2, 4, 6, 8]"
      ]
     },
     "execution_count": 157,
     "metadata": {},
     "output_type": "execute_result"
    }
   ],
   "source": [
    "data_v = Data_v[train_num]\n",
    "data_h = sigmoid_sampling(data_v, W, b)\n",
    "recon = sigmoid_sampling(data_h, W.transpose(), a)\n",
    "pt.plot_digit(recon)"
   ]
  },
  {
   "cell_type": "code",
   "execution_count": null,
   "metadata": {
    "collapsed": true
   },
   "outputs": [],
   "source": []
  }
 ],
 "metadata": {
  "kernelspec": {
   "display_name": "Python 2",
   "language": "python",
   "name": "python2"
  },
  "language_info": {
   "codemirror_mode": {
    "name": "ipython",
    "version": 2
   },
   "file_extension": ".py",
   "mimetype": "text/x-python",
   "name": "python",
   "nbconvert_exporter": "python",
   "pygments_lexer": "ipython2",
   "version": "2.7.6"
  }
 },
 "nbformat": 4,
 "nbformat_minor": 0
}
