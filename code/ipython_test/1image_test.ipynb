{
 "cells": [
  {
   "cell_type": "code",
   "execution_count": 1,
   "metadata": {
    "collapsed": true
   },
   "outputs": [],
   "source": [
    "%matplotlib inline\n",
    "import numpy as np\n",
    "import poisson_tools as pt\n",
    "import matplotlib.pyplot as plt\n",
    "from scipy.special import expit"
   ]
  },
  {
   "cell_type": "code",
   "execution_count": 2,
   "metadata": {
    "collapsed": false
   },
   "outputs": [],
   "source": [
    "train_x, train_y = pt.get_train_data()\n",
    "train_x = train_x > 50"
   ]
  },
  {
   "cell_type": "code",
   "execution_count": 3,
   "metadata": {
    "collapsed": false
   },
   "outputs": [
    {
     "data": {
      "image/png": "[encoded data removed]",
      "text/plain": [
       "<matplotlib.figure.Figure at 0x7f43a102d210>"
      ]
     },
     "metadata": {},
     "output_type": "display_data"
    }
   ],
   "source": [
    "pt.plot_digit(train_x[59997])\n",
    "plt.savefig('test.pdf')"
   ]
  },
  {
   "cell_type": "code",
   "execution_count": 4,
   "metadata": {
    "collapsed": false
   },
   "outputs": [],
   "source": [
    "digit = 5\n",
    "label_list = np.array(train_y).astype(int)\n",
    "index_digit = np.where(label_list==digit)[0]\n",
    "train_num = len(index_digit)-1\n",
    "index_train = index_digit[0:train_num]\n",
    "Data_v = np.array(train_x[index_train]).astype(float)"
   ]
  },
  {
   "cell_type": "markdown",
   "metadata": {},
   "source": [
    "# Given V0, get (v0, h0) and (v1, h1)"
   ]
  },
  {
   "cell_type": "code",
   "execution_count": 6,
   "metadata": {
    "collapsed": false
   },
   "outputs": [],
   "source": [
    "def sigmoid_sampling(data, weight, bias):\n",
    "    sum_data = np.dot(data, weight) + bias\n",
    "    prob = expit(sum_data)\n",
    "    rdm = np.random.random(prob.shape)\n",
    "    index_on = rdm < prob\n",
    "    samples = np.zeros(prob.shape)\n",
    "    samples[index_on]=1.\n",
    "    return samples\n",
    "    "
   ]
  },
  {
   "cell_type": "code",
   "execution_count": 7,
   "metadata": {
    "collapsed": false
   },
   "outputs": [],
   "source": [
    "def update_para(v0, h0, v1, h1, a, b, w, eta ):\n",
    "    delta_a = np.zeros(v0.shape)\n",
    "    delta_b = np.zeros(h0.shape)\n",
    "    delta_w = np.zeros(w.shape)\n",
    "    batch_size = v0.shape[0]\n",
    "    \n",
    "    delta_a = eta * (v0 - v1)\n",
    "    delta_b = eta * (h0 - h1)\n",
    "    for k in range(batch_size):\n",
    "        v0_matrix = np.transpose(np.tile(v0[k],(w.shape[1],1)))\n",
    "        v1_matrix = np.transpose(np.tile(v1[k],(w.shape[1],1)))\n",
    "        h0_matrix = np.tile(h0[k],(w.shape[0],1))\n",
    "        h1_matrix = np.tile(h1[k],(w.shape[0],1))\n",
    "        delta_w += eta * (v0_matrix*h0_matrix - v1_matrix*h1_matrix)\n",
    "    \n",
    "    a += np.average(delta_a,0)\n",
    "    b += np.average(delta_b,0)\n",
    "    w += delta_w/np.float(batch_size)\n",
    "    return a, b, w"
   ]
  },
  {
   "cell_type": "code",
   "execution_count": 8,
   "metadata": {
    "collapsed": true
   },
   "outputs": [],
   "source": [
    "def sampling_k(a, b, w, sample_num, init_v):\n",
    "    gibbs_v = np.zeros((sample_num, a.shape[0]))\n",
    "    gibbs_h = np.zeros((sample_num, b.shape[0]))\n",
    "    gibbs_v[0] = init_v\n",
    "    for g_step in range(1, sample_num):\n",
    "        gibbs_h[g_step-1] = sigmoid_sampling(gibbs_v[g_step-1], w, b)\n",
    "        gibbs_v[g_step] = sigmoid_sampling(gibbs_h[g_step-1], w.transpose(), a)\n",
    "    gibbs_h[-1] = sigmoid_sampling(gibbs_v[-2], w, b)\n",
    "    return gibbs_v, gibbs_h"
   ]
  },
  {
   "cell_type": "code",
   "execution_count": 9,
   "metadata": {
    "collapsed": true
   },
   "outputs": [],
   "source": [
    "def matrix_times(m, n):\n",
    "    m_matrix = np.transpose(np.tile(m,(len(n), 1)))\n",
    "    n_matrix = np.tile(n,(len(m), 1))\n",
    "    return m_matrix*n_matrix"
   ]
  },
  {
   "cell_type": "code",
   "execution_count": 13,
   "metadata": {
    "collapsed": true
   },
   "outputs": [],
   "source": [
    "def update_cdk(a, b, w, data_v, cd_size):\n",
    "    max_bsize = data_v.shape[0]\n",
    "    ind_rdm = int(np.floor(np.random.random()*max_bsize))\n",
    "    init_v = data_v[ind_rdm]\n",
    "    gibbs_v, gibbs_h = sampling_k(a, b, w, cd_size, init_v)\n",
    "    avg_h = []\n",
    "    for vd in range(max_bsize):\n",
    "        data_h = np.zeros((cd_size, b.shape[0]))\n",
    "        for h in range(cd_size):\n",
    "            data_h[h] = sigmoid_sampling(data_v[vd], w, b)\n",
    "        avg_h.append(np.average(data_h, axis=0))\n",
    "    \n",
    "    \n",
    "    delta_a = eta * (np.average(data_v,0) - np.average(gibbs_v,0))\n",
    "    delta_b = eta * (np.average(avg_h,0) - np.average(gibbs_h,0))\n",
    "    pos_delta_w = np.zeros(w.shape)\n",
    "    neg_delta_w = np.zeros(w.shape)\n",
    "    for vd in range(max_bsize):\n",
    "        pos_delta_w += matrix_times(data_v[vd], avg_h[vd])\n",
    "    for gstep in range(cd_size):\n",
    "        neg_delta_w += matrix_times(gibbs_v[gstep], gibbs_h[gstep])    \n",
    "    a += delta_a\n",
    "    b += delta_b\n",
    "    w += eta * pos_delta_w/np.float(max_bsize)\n",
    "    w -= eta * neg_delta_w/np.float(cd_size)\n",
    "    return a, b, w"
   ]
  },
  {
   "cell_type": "markdown",
   "metadata": {},
   "source": [
    "# Initialisation of W, a and b"
   ]
  },
  {
   "cell_type": "code",
   "execution_count": 21,
   "metadata": {
    "collapsed": false
   },
   "outputs": [],
   "source": [
    "hiden_num = 500\n",
    "W = np.random.normal(0,0.01,Data_v.shape[1]*hiden_num)\n",
    "W = W.reshape((Data_v.shape[1],hiden_num))\n",
    "b = np.zeros(hiden_num)\n",
    "pixel_on = np.sum(Data_v,0)\n",
    "a = np.log((pixel_on + 0.01)/(train_num - pixel_on + 0.01))\n",
    "eta = 0.001"
   ]
  },
  {
   "cell_type": "code",
   "execution_count": 18,
   "metadata": {
    "collapsed": false
   },
   "outputs": [
    {
     "name": "stdout",
     "output_type": "stream",
     "text": [
      "1 0\n",
      "1 1000\n",
      "1 2000\n",
      "1 3000\n",
      "1 4000\n",
      "1 5000\n"
     ]
    }
   ],
   "source": [
    "batch_size = 1000\n",
    "for iteration in range(1):\n",
    "    for k in range(0,train_num,batch_size):\n",
    "        max_bsize = min(train_num-k, batch_size)\n",
    "        data_v = Data_v[k:k+max_bsize]\n",
    "        a, b, W = update_cdk(a, b, W, data_v, batch_size)\n",
    "        print iteration+1, k"
   ]
  },
  {
   "cell_type": "code",
   "execution_count": 24,
   "metadata": {
    "collapsed": false
   },
   "outputs": [
    {
     "data": {
      "image/png": "[encoded data removed]",
      "text/plain": [
       "<matplotlib.figure.Figure at 0x7f439d3e7b50>"
      ]
     },
     "metadata": {},
     "output_type": "display_data"
    }
   ],
   "source": [
    "np.random.seed(0)\n",
    "data_v = np.array(train_x[index_digit[train_num]]).astype(float)\n",
    "data_h = sigmoid_sampling(data_v, W, b)\n",
    "recon = sigmoid_sampling(data_h, W.transpose(), a)\n",
    "pt.plot_digit(recon)"
   ]
  },
  {
   "cell_type": "code",
   "execution_count": 23,
   "metadata": {
    "collapsed": false
   },
   "outputs": [],
   "source": [
    "batch_size = 1\n",
    "for iteration in range(1):\n",
    "    for k in range(0,train_num,batch_size):\n",
    "        data_v = Data_v[k:k+batch_size]\n",
    "        data_h = sigmoid_sampling(data_v, W, b)\n",
    "        gibbs_v = sigmoid_sampling(data_h, W.transpose(), a)\n",
    "        gibbs_h = sigmoid_sampling(gibbs_v, W, b)\n",
    "        a, b, W = update_para(data_v, data_h, gibbs_v, gibbs_h, a, b, W, eta)"
   ]
  }
 ],
 "metadata": {
  "kernelspec": {
   "display_name": "Python 2",
   "language": "python",
   "name": "python2"
  },
  "language_info": {
   "codemirror_mode": {
    "name": "ipython",
    "version": 2
   },
   "file_extension": ".py",
   "mimetype": "text/x-python",
   "name": "python",
   "nbconvert_exporter": "python",
   "pygments_lexer": "ipython2",
   "version": "2.7.6"
  }
 },
 "nbformat": 4,
 "nbformat_minor": 0
}
