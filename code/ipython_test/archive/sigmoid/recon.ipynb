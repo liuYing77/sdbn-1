{
 "cells": [
  {
   "cell_type": "code",
   "execution_count": 1,
   "metadata": {
    "collapsed": true
   },
   "outputs": [],
   "source": [
    "#%matplotlib inline\n",
    "import numpy as np\n",
    "import matplotlib.pyplot as plt"
   ]
  },
  {
   "cell_type": "code",
   "execution_count": 2,
   "metadata": {
    "collapsed": true
   },
   "outputs": [],
   "source": [
    "def get_batchsize(filename):\n",
    "    ind = filename.find('_b')\n",
    "    return int(filename[ind+2:ind+6])"
   ]
  },
  {
   "cell_type": "code",
   "execution_count": 3,
   "metadata": {
    "collapsed": true
   },
   "outputs": [],
   "source": [
    "def get_epoc(filename):\n",
    "    ind = filename.find('_epoc')\n",
    "    return int(filename[ind+5:ind+10])"
   ]
  },
  {
   "cell_type": "code",
   "execution_count": 4,
   "metadata": {
    "collapsed": true
   },
   "outputs": [],
   "source": [
    "def get_train_num(filename):\n",
    "    ind = filename.find('_b')\n",
    "    train_num = int(filename[ind-4:ind])\n",
    "    return train_num"
   ]
  },
  {
   "cell_type": "code",
   "execution_count": 5,
   "metadata": {
    "collapsed": true
   },
   "outputs": [],
   "source": [
    "def get_method(filename):\n",
    "    ind = filename.find('.')\n",
    "    method = filename[ind-3:ind]\n",
    "    return method"
   ]
  },
  {
   "cell_type": "code",
   "execution_count": 6,
   "metadata": {
    "collapsed": true
   },
   "outputs": [],
   "source": [
    "def get_steps(batchsize, epoc, train_num):\n",
    "    return int(np.ceil(train_num*1.0/batchsize)*epoc)"
   ]
  },
  {
   "cell_type": "code",
   "execution_count": 18,
   "metadata": {
    "collapsed": false
   },
   "outputs": [],
   "source": [
    "def plot_recon_error(t_list, plot_order, title, fname, xlimit, **kwargs):\n",
    "    plt.clf()\n",
    "    for key in plot_order:\n",
    "        #ind = key.find('_')\n",
    "        #clabel = 'CD_' + key[0:ind]\n",
    "        clabel = key\n",
    "        ax = kwargs.pop('ax', plt.gca())\n",
    "        ax.plot(t_list[key][:,0],t_list[key][:,1],'.', label = clabel, **kwargs)\n",
    "        legend = ax.legend(loc='upper right', shadow=True)\n",
    "    plt.xlabel('Updates steps')\n",
    "    plt.ylabel('Error (%)')\n",
    "    plt.title(title)\n",
    "    plt.grid('on')\n",
    "    if xlimit != []:\n",
    "        plt.xlim(xlimit)\n",
    "    plt.savefig(fname)    \n",
    "    #plt.show()"
   ]
  },
  {
   "cell_type": "code",
   "execution_count": 8,
   "metadata": {
    "collapsed": false
   },
   "outputs": [],
   "source": [
    "test_list={}\n",
    "train_list={}\n",
    "plot_order=[]\n",
    "f=open('../../log_new.txt')\n",
    "temp = f.readline()\n",
    "while len(temp)>0:\n",
    "#for i in range(10):\n",
    "    bsize = get_batchsize(temp)\n",
    "    epoc = get_epoc(temp)\n",
    "    train_num = get_train_num(temp)\n",
    "    method = get_method(temp)\n",
    "    key = str(bsize)+'_'+method\n",
    "    steps = get_steps(bsize,epoc,train_num)\n",
    "    temp = f.readline()\n",
    "    test_error = float(temp)/(891.*7.84)\n",
    "    temp = f.readline()\n",
    "    train_error = float(temp)/(5420.*7.84)\n",
    "    temp = f.readline()\n",
    "    if not test_list.has_key(key):\n",
    "        test_list[key] = np.array([[steps, test_error]])\n",
    "        train_list[key] = np.array([[steps, train_error]])\n",
    "        plot_order.append(key)\n",
    "    else:\n",
    "        test_list[key] = np.append(test_list[key], [[steps, test_error]], axis = 0)\n",
    "        train_list[key] = np.append(train_list[key], [[steps, train_error]], axis = 0)\n",
    "        \n",
    "    \n",
    "f.close()\n",
    "#print test_list[key]"
   ]
  },
  {
   "cell_type": "code",
   "execution_count": 19,
   "metadata": {
    "collapsed": false
   },
   "outputs": [],
   "source": [
    "title = 'Average Reconstruction Error of 892 Testing Images'\n",
    "fname = 'test_short.pdf'\n",
    "xlimit = (0, 8000)\n",
    "plot_recon_error(test_list, plot_order, title, fname, xlimit)\n",
    "title = 'Average Reconstruction Error of 892 Testing Images'\n",
    "fname = 'test_long.pdf'\n",
    "xlimit = []\n",
    "plot_recon_error(test_list, plot_order, title, fname, xlimit)\n",
    "title = 'Average Reconstruction Error of 5420 Training Images'\n",
    "fname = 'train_short.pdf'\n",
    "xlimit = (0, 8000)\n",
    "plot_recon_error(train_list, plot_order, title, fname, xlimit)\n",
    "title = 'Average Reconstruction Error of 5420 Training Images'\n",
    "fname = 'train_long.pdf'\n",
    "xlimit = []\n",
    "plot_recon_error(train_list, plot_order, title, fname, xlimit)"
   ]
  },
  {
   "cell_type": "code",
   "execution_count": null,
   "metadata": {
    "collapsed": true
   },
   "outputs": [],
   "source": []
  }
 ],
 "metadata": {
  "kernelspec": {
   "display_name": "Python 2",
   "language": "python",
   "name": "python2"
  },
  "language_info": {
   "codemirror_mode": {
    "name": "ipython",
    "version": 2
   },
   "file_extension": ".py",
   "mimetype": "text/x-python",
   "name": "python",
   "nbconvert_exporter": "python",
   "pygments_lexer": "ipython2",
   "version": "2.7.6"
  }
 },
 "nbformat": 4,
 "nbformat_minor": 0
}
