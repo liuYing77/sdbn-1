{
 "cells": [
  {
   "cell_type": "code",
   "execution_count": 2,
   "metadata": {
    "collapsed": false
   },
   "outputs": [],
   "source": [
    "'''\n",
    "Deep Belief Net training\n",
    "'''\n",
    "import sys\n",
    "import random\n",
    "import numpy as np\n",
    "import poisson_tools as pt\n",
    "import matplotlib.pyplot as plt\n",
    "from scipy.special import expit"
   ]
  },
  {
   "cell_type": "code",
   "execution_count": 89,
   "metadata": {
    "collapsed": false
   },
   "outputs": [],
   "source": [
    "def init_dbn(nodes, data_train):\n",
    "    '''\n",
    "    nodes, training paras like epoc...\n",
    "    '''\n",
    "    dbnet = {}\n",
    "    dbnet['nodes'] = nodes\n",
    "    dbnet['w_up'] = []\n",
    "    dbnet['w_down'] = []\n",
    "    dbnet['bias'] = []\n",
    "    for layer in range(len(nodes)-1):\n",
    "        w = np.random.normal(0,0.01, nodes[layer] * nodes[layer+1] )\n",
    "        w = w.reshape((nodes[layer], nodes[layer+1]))\n",
    "        dbnet['w_up'].append(w)\n",
    "        dbnet['w_down'].append(np.array([]))\n",
    "        dbnet['bias'].append(np.zeros(nodes[layer]))\n",
    "    dbnet['epoc'] = 1\n",
    "    dbnet['batch'] = 50\n",
    "    train_num = data_train.shape[0]\n",
    "    pixel_on = np.sum(data_train,0)\n",
    "    a = np.log((pixel_on + 0.01)/(train_num - pixel_on + 0.01))\n",
    "    dbnet['bias'][0] = a\n",
    "    return dbnet"
   ]
  },
  {
   "cell_type": "code",
   "execution_count": 60,
   "metadata": {
    "collapsed": true
   },
   "outputs": [],
   "source": [
    "def sigmoid_sampling(data, weight, bias):\n",
    "    sum_data = np.dot(data, weight) + bias\n",
    "    prob = expit(sum_data)\n",
    "    rdm = np.random.random(prob.shape)\n",
    "    index_on = rdm < prob\n",
    "    samples = np.zeros(prob.shape)\n",
    "    samples[index_on]=1.\n",
    "    return samples"
   ]
  },
  {
   "cell_type": "code",
   "execution_count": 61,
   "metadata": {
    "collapsed": true
   },
   "outputs": [],
   "source": [
    "def get_gendata(dbnet, curr_layer, data, direction):\n",
    "    data_gen = data\n",
    "    if direction == 'up':\n",
    "        for l in range(curr_layer):\n",
    "            data_gen = sigmoid_sampling(data_gen, dbnet['w_up'][l], dbnet['bias'][l+1])\n",
    "    return data_gen\n",
    "        "
   ]
  },
  {
   "cell_type": "code",
   "execution_count": 73,
   "metadata": {
    "collapsed": false
   },
   "outputs": [],
   "source": [
    "def update(v0, h0, v1, h1, a, b, w, eta ):    \n",
    "    delta_a = eta * (v0 - v1)\n",
    "    delta_b = eta * (h0 - h1)\n",
    "    v0_matrix = np.transpose(np.tile(v0,(w.shape[1],1)))\n",
    "    v1_matrix = np.transpose(np.tile(v1,(w.shape[1],1)))\n",
    "    h0_matrix = np.tile(h0,(w.shape[0],1))\n",
    "    h1_matrix = np.tile(h1,(w.shape[0],1))\n",
    "    delta_w = eta * (v0_matrix*h0_matrix - v1_matrix*h1_matrix)\n",
    "    \n",
    "    a += delta_a\n",
    "    b += delta_b\n",
    "    w += delta_w\n",
    "    return a, b, w\n",
    "\n",
    "def CD1_update(data_v, a, b, w):\n",
    "    eta = 0.001\n",
    "    for k in range(data_v.shape[0]):\n",
    "        data_h = sigmoid_sampling(data_v[k], w, b)\n",
    "        gibbs_v = sigmoid_sampling(data_h, w.transpose(), a)\n",
    "        gibbs_h = sigmoid_sampling(gibbs_v, w, b)\n",
    "        a, b, w = update(data_v[k], data_h, gibbs_v, gibbs_h, a, b, w, eta)\n",
    "    return a, b, w"
   ]
  },
  {
   "cell_type": "code",
   "execution_count": 93,
   "metadata": {
    "collapsed": false
   },
   "outputs": [],
   "source": [
    "def RBM_train(dbnet, curr_layer, Data_v):\n",
    "    train_num = Data_v.shape[0]\n",
    "    w = dbnet['w_up'][curr_layer]\n",
    "    a = dbnet['bias'][curr_layer]\n",
    "    b = dbnet['bias'][curr_layer+1]\n",
    "    for epoc in range (dbnet['epoc']):\n",
    "        print epoc+1\n",
    "        for k in range(0, train_num, dbnet['batch']):\n",
    "            max_bsize = min(train_num-k, dbnet['batch'])\n",
    "            data_v = Data_v[k:k+max_bsize]\n",
    "            data_v = get_gendata(dbnet, curr_layer, data_v, 'up')\n",
    "            a, b, w = CD1_update(data_v, a, b, w)\n",
    "    dbnet['w_up'][curr_layer] = w\n",
    "    dbnet['bias'][curr_layer] = a\n",
    "    dbnet['bias'][curr_layer+1] = b\n",
    "    dbnet['w_down'][curr_layer] = np.transpose(dbnet['w_up'][curr_layer])\n",
    "    return dbnet"
   ]
  },
  {
   "cell_type": "code",
   "execution_count": 64,
   "metadata": {
    "collapsed": false
   },
   "outputs": [],
   "source": [
    "train_x, train_y = pt.get_train_data()\n",
    "train_x = train_x > 50\n",
    "train_num = 1\n",
    "digit = 5\n",
    "label_list = np.array(train_y).astype(int)\n",
    "index_digit = np.where(label_list==digit)[0]\n",
    "if train_num <= 1 or train_num > len(index_digit):\n",
    "    train_num = len(index_digit) - 1\n",
    "else:\n",
    "    train_num = train_num - 1\n",
    "\n",
    "index_train = index_digit[0:train_num]\n",
    "Data_v = np.array(train_x[index_train]).astype(float)\n",
    "Labels = train_y[index_train]"
   ]
  },
  {
   "cell_type": "code",
   "execution_count": 98,
   "metadata": {
    "collapsed": false
   },
   "outputs": [
    {
     "name": "stdout",
     "output_type": "stream",
     "text": [
      "1\n",
      "1\n",
      "1\n"
     ]
    }
   ],
   "source": [
    "np.random.seed(0)\n",
    "nodes = [784, 500, 500, 2000, 10]\n",
    "dbnet = init_dbn(nodes, Data_v)\n",
    "#Train RBMs layer by layer\n",
    "for layer in range(len(dbnet['nodes'])-2):\n",
    "    dbnet = RBM_train(dbnet, layer, Data_v)"
   ]
  },
  {
   "cell_type": "code",
   "execution_count": 110,
   "metadata": {
    "collapsed": false
   },
   "outputs": [],
   "source": [
    "data_v = np.array(train_x[index_digit[-1]]).astype(float)\n",
    "d_up = []\n",
    "d_down = []\n",
    "for i in range(len(dbnet['nodes'])-1):\n",
    "    d_up.append(np.array([]))\n",
    "    d_down.append(np.array([]))\n",
    "d_up[0] = data_v\n",
    "for layer in range(1, len(dbnet['nodes'])-1):\n",
    "    d_up[layer] = sigmoid_sampling(d_up[layer-1], dbnet['w_up'][layer-1], dbnet['bias'][layer])\n",
    "d_down[-1] = d_up[-1]\n",
    "for layer in range(len(dbnet['nodes'])-3, -1, -1):\n",
    "    d_down[layer] = sigmoid_sampling(d_down[layer+1], dbnet['w_down'][layer], dbnet['bias'][layer])\n",
    "\n",
    "recon = d_down[0]\n",
    "pt.plot_digit(recon)\n",
    "plt.show()"
   ]
  },
  {
   "cell_type": "code",
   "execution_count": 100,
   "metadata": {
    "collapsed": true
   },
   "outputs": [],
   "source": [
    "def fine_tuning(dbnet, Data_v, Labels):\n",
    "    eta = 0.001\n",
    "    train_num = Data_v.shape[0]\n",
    "    d_up = []\n",
    "    d_down = []\n",
    "    for i in range(len(dbnet['nodes'])):\n",
    "        d_up.append(np.array([]))\n",
    "        d_down.append(np.array([]))\n",
    "    for epoc in range (dbnet['epoc']):\n",
    "        print epoc+1\n",
    "        for k in range(train_num):\n",
    "            # first up then down\n",
    "            d_up[0] = Data_v[k]\n",
    "            for layer in range(1, len(dbnet['nodes'])):\n",
    "                d_up[layer] = sigmoid_sampling(d_up[layer-1], dbnet['w_up'][layer-1], dbnet['bias'][layer])\n",
    "            d_down[-1] = d_up[-1]\n",
    "            for layer in range(len(dbnet['nodes'])-2, -1, -1):\n",
    "                d_down[layer] = sigmoid_sampling(d_down[layer+1], dbnet['w_down'][layer], dbnet['bias'][layer])\n",
    "                delta_w = d_down[layer] - d_up[layer]\n",
    "                dbnet['w_down'][layer] += delta_w\n",
    "                \n",
    "            # then down and up\n",
    "            d_down[-1] = np.zeros(dbnet['bias'][-1])\n",
    "            d_down[-1][Labels[k]] = 1.\n",
    "            for layer in range(len(dbnet['nodes'])-2, -1, -1):\n",
    "                d_down[layer] = sigmoid_sampling(d_down[layer+1], dbnet['w_down'][layer], dbnet['bias'][layer])\n",
    "            d_up[0] =d_down[0]\n",
    "            for layer in range(1, len(dbnet['nodes'])):\n",
    "                d_up[layer] = sigmoid_sampling(d_up[layer-1], dbnet['w_up'][layer-1], dbnet['bias'][layer])\n",
    "                delta_w = d_up[layer] - d_down[layer]\n",
    "                dbnet['w_up'][layer-1] += delta_w\n",
    "    return dbnet"
   ]
  },
  {
   "cell_type": "code",
   "execution_count": 102,
   "metadata": {
    "collapsed": false
   },
   "outputs": [
    {
     "name": "stdout",
     "output_type": "stream",
     "text": [
      "[3, 2, 1, 0]\n"
     ]
    }
   ],
   "source": [
    "print range(len(dbnet['nodes'])-2, -1, -1)"
   ]
  },
  {
   "cell_type": "code",
   "execution_count": null,
   "metadata": {
    "collapsed": true
   },
   "outputs": [],
   "source": []
  }
 ],
 "metadata": {
  "kernelspec": {
   "display_name": "Python 2",
   "language": "python",
   "name": "python2"
  },
  "language_info": {
   "codemirror_mode": {
    "name": "ipython",
    "version": 2
   },
   "file_extension": ".py",
   "mimetype": "text/x-python",
   "name": "python",
   "nbconvert_exporter": "python",
   "pygments_lexer": "ipython2",
   "version": "2.7.6"
  }
 },
 "nbformat": 4,
 "nbformat_minor": 0
}
