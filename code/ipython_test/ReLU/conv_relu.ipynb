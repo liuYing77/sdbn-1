{
 "cells": [
  {
   "cell_type": "code",
   "execution_count": 1,
   "metadata": {
    "collapsed": false
   },
   "outputs": [],
   "source": [
    "%matplotlib inline\n",
    "import numpy as np\n",
    "import matplotlib.pyplot as plt\n",
    "import matplotlib.cm as cm\n",
    "import mnist_utils as mu\n",
    "import random\n",
    "import pyNN.nest as p\n",
    "import relu_utils as alg\n",
    "import spiking_relu as sr\n",
    "import cnn_utils as cnnu"
   ]
  },
  {
   "cell_type": "code",
   "execution_count": 2,
   "metadata": {
    "collapsed": false
   },
   "outputs": [],
   "source": [
    "import scipy.io as sio\n",
    "tmp_x = sio.loadmat('mnist.mat')['test_x']\n",
    "tmp_x = np.transpose(tmp_x, (2, 0, 1))\n",
    "tmp_x = np.reshape(tmp_x, (tmp_x.shape[0], 28*28), order='F' )\n",
    "\n",
    "tmp_y = sio.loadmat('mnist.mat')['test_y']\n",
    "tmp_y = np.argmax(tmp_y, axis=0)"
   ]
  },
  {
   "cell_type": "code",
   "execution_count": 3,
   "metadata": {
    "collapsed": false
   },
   "outputs": [
    {
     "name": "stdout",
     "output_type": "stream",
     "text": [
      "1.0\n"
     ]
    },
    {
     "data": {
      "image/png": "[encoded data removed]",
      "text/plain": [
       "<matplotlib.figure.Figure at 0x7fe731ce51d0>"
      ]
     },
     "metadata": {},
     "output_type": "display_data"
    }
   ],
   "source": [
    "num_train = 100\n",
    "tx = tmp_x[0:num_train]\n",
    "mu.plot_digit(tx[0])\n",
    "ty = tmp_y[0:num_train]\n",
    "'''\n",
    "SUM_rate = 2000.\n",
    "for i in range(num_train):\n",
    "    tx[i] = tx[i]/sum(tx[i])*SUM_rate\n",
    "'''\n",
    "print max(tx[0])"
   ]
  },
  {
   "cell_type": "code",
   "execution_count": 9,
   "metadata": {
    "collapsed": false
   },
   "outputs": [],
   "source": [
    "w, l = cnnu.readmat('cnn609.mat')\n",
    "r = cnnu.test_softplus(w, l, tx)"
   ]
  },
  {
   "cell_type": "code",
   "execution_count": 10,
   "metadata": {
    "collapsed": false
   },
   "outputs": [
    {
     "name": "stdout",
     "output_type": "stream",
     "text": [
      "216.897841477 0.0575703929363\n",
      "2.00733213978 45.5747651812\n",
      "0.511357444016 11.636277092\n",
      "0.99794808024 8.17774964573\n",
      "0.140788467122 30.000040566\n"
     ]
    }
   ],
   "source": [
    "w_new, a = cnnu.scale_weight(w, l, tx)"
   ]
  },
  {
   "cell_type": "code",
   "execution_count": 23,
   "metadata": {
    "collapsed": false
   },
   "outputs": [
    {
     "name": "stdout",
     "output_type": "stream",
     "text": [
      "92 92\n"
     ]
    }
   ],
   "source": [
    "result_snn = np.argmax(a, axis=1)\n",
    "result_cnn = np.argmax(r[-1][0], axis=1)\n",
    "label = ty[:num_train]\n",
    "print (result_snn == label).astype(int).sum(), (result_cnn == label).astype(int).sum()"
   ]
  }
 ],
 "metadata": {
  "kernelspec": {
   "display_name": "Python 2",
   "language": "python",
   "name": "python2"
  },
  "language_info": {
   "codemirror_mode": {
    "name": "ipython",
    "version": 2
   },
   "file_extension": ".py",
   "mimetype": "text/x-python",
   "name": "python",
   "nbconvert_exporter": "python",
   "pygments_lexer": "ipython2",
   "version": "2.7.6"
  }
 },
 "nbformat": 4,
 "nbformat_minor": 0
}
