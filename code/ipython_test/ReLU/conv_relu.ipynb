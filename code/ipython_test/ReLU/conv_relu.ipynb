{
 "cells": [
  {
   "cell_type": "code",
   "execution_count": 1,
   "metadata": {
    "collapsed": false
   },
   "outputs": [],
   "source": [
    "%matplotlib inline\n",
    "import numpy as np\n",
    "import matplotlib.pyplot as plt\n",
    "import matplotlib.cm as cm\n",
    "import mnist_utils as mu\n",
    "import random\n",
    "import pyNN.nest as p\n",
    "import relu_utils as alg\n",
    "import spiking_relu as sr\n",
    "import cnn_utils as cnnu"
   ]
  },
  {
   "cell_type": "code",
   "execution_count": 2,
   "metadata": {
    "collapsed": false
   },
   "outputs": [],
   "source": [
    "import scipy.io as sio\n",
    "tmp_x = sio.loadmat('mnist.mat')['test_x']\n",
    "tmp_x = np.transpose(tmp_x, (2, 0, 1))\n",
    "tmp_x = np.reshape(tmp_x, (tmp_x.shape[0], 28*28), order='F' )\n",
    "\n",
    "tmp_y = sio.loadmat('mnist.mat')['test_y']\n",
    "tmp_y = np.argmax(tmp_y, axis=0)"
   ]
  },
  {
   "cell_type": "code",
   "execution_count": 3,
   "metadata": {
    "collapsed": false
   },
   "outputs": [
    {
     "name": "stdout",
     "output_type": "stream",
     "text": [
      "11.7395207513\n"
     ]
    },
    {
     "data": {
      "image/png": "[encoded data removed]",
      "text/plain": [
       "<matplotlib.figure.Figure at 0x7f5d616d1990>"
      ]
     },
     "metadata": {},
     "output_type": "display_data"
    }
   ],
   "source": [
    "num_train = 100\n",
    "tx = tmp_x[0:num_train]\n",
    "mu.plot_digit(tx[0])\n",
    "ty = tmp_y[0:num_train]\n",
    "\n",
    "SUM_rate = 2000.\n",
    "for i in range(num_train):\n",
    "    tx[i] = tx[i]/sum(tx[i])*SUM_rate\n",
    "\n",
    "print max(tx[0])"
   ]
  },
  {
   "cell_type": "code",
   "execution_count": 4,
   "metadata": {
    "collapsed": false
   },
   "outputs": [],
   "source": [
    "w, l = cnnu.readmat('cnn_relu.mat')#cnn609.mat softplus 3-5 train.\n",
    "r = cnnu.test(w, l, tx)"
   ]
  },
  {
   "cell_type": "code",
   "execution_count": 5,
   "metadata": {
    "collapsed": false
   },
   "outputs": [
    {
     "name": "stdout",
     "output_type": "stream",
     "text": [
      "92\n"
     ]
    }
   ],
   "source": [
    "label = ty[:num_train]\n",
    "result_cnn = np.argmax(r[-1][0], axis=1)\n",
    "print (result_cnn == label).astype(int).sum()"
   ]
  },
  {
   "cell_type": "code",
   "execution_count": 6,
   "metadata": {
    "collapsed": false
   },
   "outputs": [
    {
     "name": "stdout",
     "output_type": "stream",
     "text": [
      "scale:  19.5195085411\n",
      "scale:  10.208631392\n",
      "scale:  7.36131464507\n",
      "0.0736633068326\n",
      "scale:  14.1303782321\n",
      "49.392420307\n",
      "scale:  2.83610781963\n",
      "50.0\n"
     ]
    }
   ],
   "source": [
    "w_new, a = cnnu.scale_weight(w, l, tx)"
   ]
  },
  {
   "cell_type": "code",
   "execution_count": 7,
   "metadata": {
    "collapsed": false
   },
   "outputs": [
    {
     "name": "stdout",
     "output_type": "stream",
     "text": [
      "92 92\n"
     ]
    }
   ],
   "source": [
    "result_snn = np.argmax(a, axis=1)\n",
    "result_cnn = np.argmax(r[-1][0], axis=1)\n",
    "label = ty[:num_train]\n",
    "print (result_snn == label).astype(int).sum(), (result_cnn == label).astype(int).sum()"
   ]
  },
  {
   "cell_type": "code",
   "execution_count": 9,
   "metadata": {
    "collapsed": false
   },
   "outputs": [
    {
     "data": {
      "text/plain": [
       "array([  58.18363753,  127.94644461,   41.32687471,   46.72042999,\n",
       "         57.58084911,  147.04476062,   42.02611339,   59.14325466,\n",
       "         78.19239618,   41.70852777,   73.13256442,  103.78833279,\n",
       "         80.79783172,   98.99843797,  103.31807647,   96.89890185,\n",
       "         98.78612184,   70.02473523,   12.11962647,   40.27220343,\n",
       "         51.44871457,   91.77814779,  113.41431931,   42.84016324,\n",
       "        107.40137932,   53.216516  ,   63.11385834,   94.91976045,\n",
       "         43.00272458,   54.42091261,   95.33449407,   77.20088552,\n",
       "        105.0442787 ,   32.59661032,   59.61195095,   37.90182617,\n",
       "         61.42050617,   92.91497263,   98.48809498,   54.64224115,\n",
       "         85.27115362,   27.41528054,   41.04251575,   21.57988057,\n",
       "         71.31139429,   50.40956093,   99.4355336 ,   90.13073924,\n",
       "        101.40467193,  175.87458228,   78.17711273,   33.43251801,\n",
       "         79.6879155 ,   68.19290903,   93.810369  ,  115.19198919,\n",
       "         74.19024595,   41.60713746,   80.83291336,   86.02007417,\n",
       "        101.71353575,  104.17914436,  207.00944133,   53.42498614,\n",
       "        123.26278327,   29.77194221,  178.68592223,  118.13127345,\n",
       "         77.693611  ,   64.82887167,   71.69270915,  122.63706103,\n",
       "         80.89067071,   57.44256396,   50.00340684,   65.15270353,\n",
       "        118.45252433,   99.32335892,  122.60795339,    0.        ,\n",
       "        101.29202034,   62.47568621,   68.86398478,   51.88529766,\n",
       "         96.77970862,   36.57452377,   45.29789501,   20.86943194,\n",
       "         94.35476371,  100.84571626,   94.54480634,   88.43623367,\n",
       "         58.32921421,   40.68191299,   61.69497333,   65.7839448 ,\n",
       "         47.65840786,   68.02785595,   99.30331776,  109.29856725])"
      ]
     },
     "execution_count": 9,
     "metadata": {},
     "output_type": "execute_result"
    }
   ],
   "source": [
    "np.max(a,axis=1)"
   ]
  },
  {
   "cell_type": "code",
   "execution_count": 22,
   "metadata": {
    "collapsed": false
   },
   "outputs": [],
   "source": [
    "np.save('cnn_relu', w_new)"
   ]
  },
  {
   "cell_type": "code",
   "execution_count": 16,
   "metadata": {
    "collapsed": true
   },
   "outputs": [],
   "source": [
    "def plot_digit(img_raw):\n",
    "    #img_raw = np.uint8(img_raw)\n",
    "    plt.figure(figsize=(5,5))\n",
    "    im = plt.imshow(np.reshape(img_raw,(24,24)), cmap=cm.gray_r,interpolation='none')\n",
    "    plt.colorbar(im, fraction=0.046, pad=0.04)"
   ]
  },
  {
   "cell_type": "code",
   "execution_count": 19,
   "metadata": {
    "collapsed": false
   },
   "outputs": [
    {
     "data": {
      "image/png": "[encoded data removed]",
      "text/plain": [
       "<matplotlib.figure.Figure at 0x7fef7b0c6290>"
      ]
     },
     "metadata": {},
     "output_type": "display_data"
    }
   ],
   "source": [
    "y = cnnu.conv2d(tx[0:1], w[0][0][1])\n",
    "plot_digit(y)"
   ]
  },
  {
   "cell_type": "code",
   "execution_count": 19,
   "metadata": {
    "collapsed": false
   },
   "outputs": [],
   "source": [
    "out_size = 24\n",
    "in_size = 28\n",
    "k_size = 5\n",
    "x = np.reshape(tx[0],(in_size, in_size))#,order='F'\n",
    "k = w[0][0][0]\n",
    "z = np.zeros((out_size,out_size))\n",
    "conn_list = []\n",
    "for x_ind in range(out_size):\n",
    "    for y_ind in range(out_size):\n",
    "        in_ind = x_ind * in_size + y_ind\n",
    "        for kx in range(k_size):\n",
    "            for ky in range(k_size):\n",
    "                z[x_ind][y_ind] += (k[k_size-1-ky][k_size-1-kx] * x[x_ind+kx][y_ind+ky])\n",
    "                out_ind = (x_ind+kx) * out_size + (y_ind+ky)\n",
    "                conn_list.append((in_ind, out_ind, k[k_size-1-ky][k_size-1-kx]))\n",
    "z =  np.reshape(z, (1, out_size*out_size))#z =  np.reshape(z, (1, 24*24))#\n"
   ]
  },
  {
   "cell_type": "code",
   "execution_count": 13,
   "metadata": {
    "collapsed": false
   },
   "outputs": [
    {
     "name": "stdout",
     "output_type": "stream",
     "text": [
      "1 6\n",
      "6 6\n",
      "6 12\n",
      "12 12\n",
      "12 10\n"
     ]
    }
   ],
   "source": [
    "L = l\n"
   ]
  },
  {
   "cell_type": "code",
   "execution_count": 9,
   "metadata": {
    "collapsed": false
   },
   "outputs": [
    {
     "data": {
      "text/plain": [
       "[[1, 28], [6, 5], [0, 2], [12, 5], [0, 2], [-1, 10]]"
      ]
     },
     "execution_count": 9,
     "metadata": {},
     "output_type": "execute_result"
    }
   ],
   "source": [
    "L"
   ]
  },
  {
   "cell_type": "code",
   "execution_count": null,
   "metadata": {
    "collapsed": true
   },
   "outputs": [],
   "source": []
  }
 ],
 "metadata": {
  "kernelspec": {
   "display_name": "Python 2",
   "language": "python",
   "name": "python2"
  },
  "language_info": {
   "codemirror_mode": {
    "name": "ipython",
    "version": 2
   },
   "file_extension": ".py",
   "mimetype": "text/x-python",
   "name": "python",
   "nbconvert_exporter": "python",
   "pygments_lexer": "ipython2",
   "version": "2.7.6"
  }
 },
 "nbformat": 4,
 "nbformat_minor": 0
}
