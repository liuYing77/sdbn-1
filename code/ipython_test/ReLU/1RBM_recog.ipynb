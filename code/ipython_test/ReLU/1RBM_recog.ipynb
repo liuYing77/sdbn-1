{
 "cells": [
  {
   "cell_type": "code",
   "execution_count": 1,
   "metadata": {
    "collapsed": true
   },
   "outputs": [],
   "source": [
    "%matplotlib inline\n",
    "import numpy as np\n",
    "import matplotlib.pyplot as plt\n",
    "import mnist_utils as mu\n",
    "import maths_utils as matu\n",
    "import random"
   ]
  },
  {
   "cell_type": "code",
   "execution_count": 2,
   "metadata": {
    "collapsed": true
   },
   "outputs": [],
   "source": [
    "neuron = 'relu'\n",
    "if neuron == 'relu':\n",
    "    import relu_utils as alg\n",
    "elif neuron == 'sig':\n",
    "    import sigmoid_utils as alg\n",
    "elif neuron == 'krelu':\n",
    "    import kbrelu_utils as alg"
   ]
  },
  {
   "cell_type": "code",
   "execution_count": 3,
   "metadata": {
    "collapsed": false
   },
   "outputs": [
    {
     "name": "stdout",
     "output_type": "stream",
     "text": [
      "../train-images.idx3-ubyte\n"
     ]
    }
   ],
   "source": [
    "train_x, train_y = mu.get_train_data()"
   ]
  },
  {
   "cell_type": "code",
   "execution_count": 4,
   "metadata": {
    "collapsed": true
   },
   "outputs": [],
   "source": [
    "#digit = 5\n",
    "random.seed(0)\n",
    "label_list = np.array(train_y).astype(int)\n",
    "#index_digit = np.where(label_list==digit)[0]\n",
    "index_digit = np.where(label_list>=0)[0]\n",
    "train_num = len(index_digit)\n",
    "index_train = index_digit[0:train_num]\n",
    "Data_v = np.array(train_x[index_train]).astype(float)\n",
    "Data_v = Data_v/255.\n",
    "Labels = np.array(train_y[index_train]).astype(int)\n",
    "Data_l = np.zeros((train_num, 10))\n",
    "for i in range(train_num):\n",
    "    Data_l[i, Labels[i]] = 1."
   ]
  },
  {
   "cell_type": "code",
   "execution_count": 5,
   "metadata": {
    "collapsed": false
   },
   "outputs": [],
   "source": [
    "test_x, test_y = mu.get_test_data()\n",
    "index_digit = np.where(test_y>=0)[0]\n",
    "test_num = len(index_digit)\n",
    "index_test = index_digit[0:test_num]\n",
    "test_v = np.array(test_x[index_test]).astype(float)\n",
    "test_v = test_v/255.\n",
    "test_l = np.array(test_y[index_test]).astype(int)"
   ]
  },
  {
   "cell_type": "code",
   "execution_count": 6,
   "metadata": {
    "collapsed": false
   },
   "outputs": [
    {
     "name": "stdout",
     "output_type": "stream",
     "text": [
      "0_greedy:  3663 6337 0\n",
      "0_fine:  2054 7946 0\n",
      "1_greedy:  1836 8164 0\n",
      "1_fine:  1607 8393 0\n",
      "2_greedy:  1498 8502 0\n",
      "2_fine:  1366 8634 0\n",
      "3_greedy:  1310 8690 0\n",
      "3_fine:  1232 8768 0\n",
      "4_greedy:  1204 8796 0\n",
      "4_fine:  1137 8863 0\n",
      "5_greedy:  1112 8888 0\n",
      "5_fine:  1078 8922 0\n",
      "6_greedy:  1048 8952 0\n",
      "6_fine:  1024 8976 0\n",
      "7_greedy:  1002 8998 0\n",
      "7_fine:  979 9021 0\n",
      "8_greedy:  965 9035 0\n",
      "8_fine:  952 9048 0\n",
      "9_greedy:  925 9075 0\n",
      "9_fine:  912 9088 0\n",
      "10_greedy:  902 9098 0\n",
      "10_fine:  891 9109 0\n",
      "11_greedy:  875 9125 0\n",
      "11_fine:  865 9135 0\n",
      "12_greedy:  859 9141 0\n",
      "12_fine:  846 9154 0\n",
      "13_greedy:  838 9162 0\n",
      "13_fine:  824 9176 0\n",
      "14_greedy:  811 9189 0\n",
      "14_fine:  809 9191 0\n",
      "15_greedy:  810 9190 0\n",
      "15_fine:  804 9196 0\n",
      "16_greedy:  799 9201 0\n",
      "16_fine:  786 9214 0\n",
      "17_greedy:  782 9218 0\n",
      "17_fine:  778 9222 0\n",
      "18_greedy:  771 9229 0\n",
      "18_fine:  765 9235 0\n",
      "19_greedy:  754 9246 0\n",
      "19_fine:  745 9255 0\n",
      "20_greedy:  740 9260 0\n",
      "20_fine:  738 9262 0\n",
      "21_greedy:  728 9272 0\n",
      "21_fine:  732 9268 0\n",
      "22_greedy:  736 9264 0\n",
      "22_fine:  726 9274 0\n",
      "23_greedy:  728 9272 0\n",
      "23_fine:  717 9283 0\n",
      "24_greedy:  716 9284 0\n",
      "24_fine:  717 9283 0\n",
      "25_greedy:  710 9290 0\n",
      "25_fine:  712 9288 0\n",
      "26_greedy:  708 9292 0\n",
      "26_fine:  702 9298 0\n",
      "27_greedy:  706 9294 0\n",
      "27_fine:  698 9302 0\n",
      "28_greedy:  694 9306 0\n",
      "28_fine:  689 9311 0\n",
      "29_greedy:  688 9312 0\n",
      "29_fine:  682 9318 0\n",
      "30_greedy:  685 9315 0\n",
      "30_fine:  679 9321 0\n",
      "31_greedy:  679 9321 0\n",
      "31_fine:  679 9321 0\n",
      "32_greedy:  676 9324 0\n",
      "32_fine:  674 9326 0\n",
      "33_greedy:  676 9324 0\n",
      "33_fine:  674 9326 0\n",
      "34_greedy:  680 9320 0\n",
      "34_fine:  674 9326 0\n",
      "35_greedy:  664 9336 0\n",
      "35_fine:  664 9336 0\n",
      "36_greedy:  661 9339 0\n",
      "36_fine:  662 9338 0\n",
      "37_greedy:  660 9340 0\n",
      "37_fine:  659 9341 0\n",
      "38_greedy:  654 9346 0\n",
      "38_fine:  655 9345 0\n",
      "39_greedy:  653 9347 0\n",
      "39_fine:  651 9349 0\n",
      "40_greedy:  650 9350 0\n",
      "40_fine:  648 9352 0\n",
      "41_greedy:  649 9351 0\n",
      "41_fine:  651 9349 0\n",
      "42_greedy:  650 9350 0\n",
      "42_fine:  656 9344 0\n",
      "43_greedy:  655 9345 0\n",
      "43_fine:  657 9343 0\n",
      "44_greedy:  659 9341 0\n",
      "44_fine:  658 9342 0\n",
      "45_greedy:  652 9348 0\n",
      "45_fine:  658 9341 1\n",
      "46_greedy:  657 9343 0\n",
      "46_fine:  661 9339 0\n",
      "47_greedy:  656 9344 0\n",
      "47_fine:  663 9337 0\n",
      "48_greedy:  656 9344 0\n",
      "48_fine:  666 9334 0\n",
      "49_greedy:  660 9340 0\n",
      "49_fine:  671 9329 0\n"
     ]
    }
   ],
   "source": [
    "nodes = [784, 2000, 10]\n",
    "bsize = 100\n",
    "dbnet = alg.init_label_dbn(Data_v, Data_l, nodes, eta=1e-3, batch_size=bsize, epoc=1)\n",
    "dbnet = alg.test_label_data(dbnet, test_v, test_l)\n",
    "for iteration in range(50):\n",
    "    dbnet['train_x'] = Data_v\n",
    "    dbnet['train_y'] = Data_l\n",
    "    dbnet = alg.greedy_train(dbnet)\n",
    "    dbnet['test_x'] = test_v\n",
    "    dbnet['test_y'] = test_l\n",
    "    predict, result = alg.dbn_greedy_test(dbnet)\n",
    "    print '%d_greedy: '%iteration, np.where(result==False)[0].shape[0], np.where(result==1)[0].shape[0], np.where(result==-1)[0].shape[0]\n",
    "    dbnet = alg.fine_train(dbnet)\n",
    "    predict, result = alg.dbn_test(dbnet)\n",
    "    print '%d_fine: '%iteration, np.where(result==False)[0].shape[0], np.where(result==1)[0].shape[0], np.where(result==-1)[0].shape[0]\n",
    "    \n",
    "    dbnet['train_x'] = []\n",
    "    dbnet['train_y'] = []\n",
    "    dbnet['test_x'] = []\n",
    "    dbnet['test_y'] = []\n",
    "    dbn_f = '1RBM/1layer_b100_epoc%d'%iteration\n",
    "    alg.save_dict(dbnet, dbn_f)"
   ]
  },
  {
   "cell_type": "code",
   "execution_count": null,
   "metadata": {
    "collapsed": true
   },
   "outputs": [],
   "source": []
  }
 ],
 "metadata": {
  "kernelspec": {
   "display_name": "Python 2",
   "language": "python",
   "name": "python2"
  },
  "language_info": {
   "codemirror_mode": {
    "name": "ipython",
    "version": 2
   },
   "file_extension": ".py",
   "mimetype": "text/x-python",
   "name": "python",
   "nbconvert_exporter": "python",
   "pygments_lexer": "ipython2",
   "version": "2.7.6"
  }
 },
 "nbformat": 4,
 "nbformat_minor": 0
}
