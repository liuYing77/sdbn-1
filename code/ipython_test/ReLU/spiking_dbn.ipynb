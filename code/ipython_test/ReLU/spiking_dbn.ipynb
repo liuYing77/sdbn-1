{
 "cells": [
  {
   "cell_type": "code",
   "execution_count": 1,
   "metadata": {
    "collapsed": false
   },
   "outputs": [],
   "source": [
    "%matplotlib inline\n",
    "import matplotlib.pyplot as plt\n",
    "import numpy as np\n",
    "import pyNN.nest as p\n",
    "import relu_utils as alg\n",
    "import spiking_relu as sr\n",
    "import random\n",
    "import mnist_utils as mu\n",
    "import os.path\n",
    "import sys"
   ]
  },
  {
   "cell_type": "code",
   "execution_count": 61,
   "metadata": {
    "collapsed": false
   },
   "outputs": [],
   "source": [
    "w_listf = 'scaled_weight'\n",
    "dbn_f = 'b10_epoc5'\n",
    "dbnet = alg.load_dict(dbn_f)\n",
    "cell_params_lif = {'cm': 0.25,\n",
    "                   'i_offset': 0.0,\n",
    "                   'tau_m': 20.0,\n",
    "                   'tau_refrac': 1.,\n",
    "                   'tau_syn_E': 1.0,\n",
    "                   'tau_syn_I': 1.0,\n",
    "                   'v_reset': -70.0,\n",
    "                   'v_rest': -65.0,\n",
    "                   'v_thresh': -50.0\n",
    "                   }"
   ]
  },
  {
   "cell_type": "code",
   "execution_count": 62,
   "metadata": {
    "collapsed": false
   },
   "outputs": [
    {
     "name": "stdout",
     "output_type": "stream",
     "text": [
      "found w_list file\n"
     ]
    }
   ],
   "source": [
    "if os.path.isfile('%s.pkl'%w_listf):\n",
    "    scaled_w = alg.load_dict(w_listf)\n",
    "    w = scaled_w['w']\n",
    "    k = scaled_w['k']\n",
    "    x0 = scaled_w['x0']\n",
    "    y0 = scaled_w['y0']\n",
    "    print 'found w_list file'\n",
    "else:\n",
    "    w, k, x0, y0 = sr.w_adjust(dbnet, cell_params_lif)\n",
    "    scaled_w = {}\n",
    "    scaled_w['w'] = w\n",
    "    scaled_w['k'] = k\n",
    "    scaled_w['x0'] = x0\n",
    "    scaled_w['y0'] = y0\n",
    "    alg.save_dict(scaled_w, w_listf)"
   ]
  },
  {
   "cell_type": "code",
   "execution_count": 66,
   "metadata": {
    "collapsed": false
   },
   "outputs": [],
   "source": [
    "test = dbnet['test_x']\n",
    "SUM_rate = 2000.\n",
    "for i in range(test.shape[0]):\n",
    "    test[i] = test[i] / sum(test[i]) * SUM_rate\n",
    "test_in = test#[0,:]\n",
    "for w in scaled_w['w']:\n",
    "    out = alg.ReLU(test_in, w)\n",
    "    out = sr.transf(scaled_w['k'], scaled_w['x0'], scaled_w['y0'], out/1000.)\n",
    "    out[out<0] = 0\n",
    "    test_in = out\n",
    "#print np.transpose(out.astype(int))\n",
    "label = out\n",
    "predict = np.argmax(label, axis=1)\n",
    "index = np.where(label.max(axis=1)==0)[0]\n",
    "predict[index] = -1\n",
    "result = predict == dbnet['test_y']\n",
    "result = result.astype(int)\n",
    "result[index] = -1"
   ]
  },
  {
   "cell_type": "code",
   "execution_count": 69,
   "metadata": {
    "collapsed": false
   },
   "outputs": [
    {
     "name": "stdout",
     "output_type": "stream",
     "text": [
      "(8958,) (1032,) (9,)\n"
     ]
    }
   ],
   "source": [
    "print np.where(result==1)[0].shape, np.where(result==0)[0].shape, np.where(result==-1)[0].shape"
   ]
  },
  {
   "cell_type": "code",
   "execution_count": 57,
   "metadata": {
    "collapsed": false
   },
   "outputs": [
    {
     "name": "stdout",
     "output_type": "stream",
     "text": [
      "(10, 784)\n"
     ]
    }
   ],
   "source": [
    "test_x = dbnet['test_x']\n",
    "offset = 0\n",
    "random.seed(2)\n",
    "num_test = 10\n",
    "test = test_x[offset:(offset+num_test), :]\n",
    "print test.shape\n",
    "spike_source_data = sr.gen_spike_source(test)"
   ]
  },
  {
   "cell_type": "code",
   "execution_count": 58,
   "metadata": {
    "collapsed": false
   },
   "outputs": [],
   "source": [
    "spikes = sr.run_test(w, cell_params_lif, spike_source_data)"
   ]
  },
  {
   "cell_type": "code",
   "execution_count": null,
   "metadata": {
    "collapsed": true
   },
   "outputs": [],
   "source": [
    "def kb_test(scaled_w, test, SUM_rate=2000.):\n",
    "    "
   ]
  },
  {
   "cell_type": "code",
   "execution_count": 6,
   "metadata": {
    "collapsed": false
   },
   "outputs": [],
   "source": [
    "spike_count = list()\n",
    "dur_test = 1000\n",
    "silence = 200\n",
    "for i in range(w[-1].shape[1]):\n",
    "    index_i = np.where(spikes[:,0] == i)\n",
    "    spike_train = spikes[index_i, 1]\n",
    "    #temp = np.histogram(spike_train, bins=range(0, (dur_test+silence)*num_test+1,dur_test+silence))[0]\n",
    "    temp = sr.counter(spike_train, range(0, (dur_test+silence)*num_test,dur_test+silence), dur_test)\n",
    "    spike_count.append(temp)\n",
    "spike_count = np.array(spike_count)/(dur_test / 1000.)"
   ]
  },
  {
   "cell_type": "code",
   "execution_count": 7,
   "metadata": {
    "collapsed": false
   },
   "outputs": [
    {
     "name": "stdout",
     "output_type": "stream",
     "text": [
      "[[  0.   1.   0.   8.   0.   0.   0.   0.   0.   0.]\n",
      " [  0.   0.  88.   0.   0.  74.   0.   0.   0.   0.]\n",
      " [  1.   0.   0.   0.   0.   0.   0.   0.   0.   0.]\n",
      " [  0.   1.   0.   0.   0.   0.   0.   0.   0.   0.]\n",
      " [  0.   0.   0.   0.  24.   0.   9.   2.   0.   2.]\n",
      " [  0.   0.   1.   0.   0.   0.   1.   0.   1.   0.]\n",
      " [  0.   0.   0.   0.   0.   0.   0.   0.   1.   0.]\n",
      " [ 30.   0.   0.   0.   1.   3.   0.   0.   0.   4.]\n",
      " [  0.   0.   2.   0.   0.   0.   0.   0.   0.   0.]\n",
      " [  0.   0.   0.   0.   6.   0.   0.   1.   0.   4.]] [7 0 1 0 4 1 4 4 5 7] [7 2 1 0 4 1 4 9 5 9]\n"
     ]
    }
   ],
   "source": [
    "print spike_count, np.argmax(spike_count, axis=0), dbnet['test_y'][:10]"
   ]
  },
  {
   "cell_type": "code",
   "execution_count": null,
   "metadata": {
    "collapsed": false
   },
   "outputs": [],
   "source": [
    "mu.plot_digit(test_x[3])"
   ]
  },
  {
   "cell_type": "code",
   "execution_count": 54,
   "metadata": {
    "collapsed": false
   },
   "outputs": [
    {
     "data": {
      "text/plain": [
       "array([1, 0, 0, 1, 1, 1, 1, 0, 1, 0])"
      ]
     },
     "execution_count": 54,
     "metadata": {},
     "output_type": "execute_result"
    }
   ],
   "source": [
    "(np.argmax(spike_count, axis=0) == dbnet['test_y'][:10]).astype(int)"
   ]
  },
  {
   "cell_type": "code",
   "execution_count": 48,
   "metadata": {
    "collapsed": false
   },
   "outputs": [
    {
     "data": {
      "text/plain": [
       "array([ 1.,  0.,  1.,  1.,  1.,  1.,  1.,  0.,  1.,  0.])"
      ]
     },
     "execution_count": 48,
     "metadata": {},
     "output_type": "execute_result"
    }
   ],
   "source": [
    "result_list[:10, 1]"
   ]
  },
  {
   "cell_type": "code",
   "execution_count": 2,
   "metadata": {
    "collapsed": false
   },
   "outputs": [
    {
     "name": "stdout",
     "output_type": "stream",
     "text": [
      "89.8498498498 8.71871871872 1.43143143143\n"
     ]
    }
   ],
   "source": [
    "rs = np.load('result_list.npy')\n",
    "limit = 9990.\n",
    "correct = np.where(rs[:limit,1] == 1)[0].shape[0]\n",
    "wrong = np.where(rs[:limit,1] == 0)[0].shape[0]\n",
    "noresp = np.where(rs[:limit,1] == -1)[0].shape[0]\n",
    "print  correct/limit*100.,  wrong/limit*100., noresp/limit*100."
   ]
  },
  {
   "cell_type": "code",
   "execution_count": null,
   "metadata": {
    "collapsed": true
   },
   "outputs": [],
   "source": []
  }
 ],
 "metadata": {
  "kernelspec": {
   "display_name": "Python 2",
   "language": "python",
   "name": "python2"
  },
  "language_info": {
   "codemirror_mode": {
    "name": "ipython",
    "version": 2
   },
   "file_extension": ".py",
   "mimetype": "text/x-python",
   "name": "python",
   "nbconvert_exporter": "python",
   "pygments_lexer": "ipython2",
   "version": "2.7.6"
  }
 },
 "nbformat": 4,
 "nbformat_minor": 0
}
