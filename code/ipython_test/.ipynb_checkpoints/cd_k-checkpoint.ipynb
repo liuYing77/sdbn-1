{
 "cells": [
  {
   "cell_type": "code",
   "execution_count": 57,
   "metadata": {
    "collapsed": true
   },
   "outputs": [],
   "source": [
    "#%matplotlib inline\n",
    "import numpy as np\n",
    "import matplotlib.pyplot as plt"
   ]
  },
  {
   "cell_type": "code",
   "execution_count": 58,
   "metadata": {
    "collapsed": true
   },
   "outputs": [],
   "source": [
    "def get_batchsize(filename):\n",
    "    ind = filename.find('_b')\n",
    "    return int(filename[ind+2:ind+6])"
   ]
  },
  {
   "cell_type": "code",
   "execution_count": 59,
   "metadata": {
    "collapsed": true
   },
   "outputs": [],
   "source": [
    "def get_epoc(filename):\n",
    "    ind = filename.find('_epoc')\n",
    "    return int(filename[ind+5:ind+9])"
   ]
  },
  {
   "cell_type": "code",
   "execution_count": 60,
   "metadata": {
    "collapsed": true
   },
   "outputs": [],
   "source": [
    "def get_train_num(filename):\n",
    "    ind = filename.find('_b')\n",
    "    train_num = int(filename[ind-4:ind])\n",
    "    return train_num"
   ]
  },
  {
   "cell_type": "code",
   "execution_count": 61,
   "metadata": {
    "collapsed": true
   },
   "outputs": [],
   "source": [
    "def get_steps(batchsize, epoc, train_num):\n",
    "    return int(np.ceil(train_num*1.0/batchsize)*epoc)"
   ]
  },
  {
   "cell_type": "code",
   "execution_count": 62,
   "metadata": {
    "collapsed": false
   },
   "outputs": [],
   "source": [
    "test_list={}\n",
    "train_list={}\n",
    "f=open('../../log.txt')\n",
    "temp = f.readline()\n",
    "while len(temp)>0:\n",
    "#for i in range(10):\n",
    "    bsize = get_batchsize(temp)\n",
    "    epoc = get_epoc(temp)\n",
    "    train_num = get_train_num(temp)\n",
    "    key = str(bsize)+'_'+str(train_num)\n",
    "    steps = get_steps(bsize,epoc,train_num)\n",
    "    temp = f.readline()\n",
    "    test_error = float(temp)/(891.*7.84)\n",
    "    temp = f.readline()\n",
    "    train_error = float(temp)/(5420.*7.84)\n",
    "    temp = f.readline()\n",
    "    if not test_list.has_key(key):\n",
    "        test_list[key] = np.array([[steps, test_error]])\n",
    "        train_list[key] = np.array([[steps, train_error]])\n",
    "    else:\n",
    "        test_list[key] = np.append(test_list[key], [[steps, test_error]], axis = 0)\n",
    "        train_list[key] = np.append(train_list[key], [[steps, train_error]], axis = 0)\n",
    "        \n",
    "    \n",
    "f.close()\n",
    "#print test_list[key]"
   ]
  },
  {
   "cell_type": "code",
   "execution_count": 102,
   "metadata": {
    "collapsed": false
   },
   "outputs": [],
   "source": [
    "for key in test_list.keys():\n",
    "    plt.plot(test_list[key][:,0],test_list[key][:,1],'.-')\n",
    "plt.xlabel('Updates steps')\n",
    "plt.ylabel('Errors (%)')\n",
    "plt.xlim((0,10000))\n",
    "plt.title('Average Reconstruction Error of 892 Testing Images')\n",
    "plt.grid('on')\n",
    "plt.savefig('test_short.pdf')\n",
    "#plt.show()\n",
    "plt.clf()"
   ]
  },
  {
   "cell_type": "code",
   "execution_count": 99,
   "metadata": {
    "collapsed": true
   },
   "outputs": [],
   "source": [
    "for key in test_list.keys():\n",
    "    plt.plot(test_list[key][:,0],test_list[key][:,1],'.-')\n",
    "plt.xlabel('Updates steps')\n",
    "plt.ylabel('Errors (%)')\n",
    "plt.title('Average Reconstruction Error of 892 Testing Images')\n",
    "plt.grid('on')\n",
    "plt.savefig('test_long.pdf')\n",
    "#plt.show()\n",
    "plt.clf()"
   ]
  },
  {
   "cell_type": "code",
   "execution_count": 100,
   "metadata": {
    "collapsed": true
   },
   "outputs": [],
   "source": [
    "for key in train_list.keys():\n",
    "    plt.plot(train_list[key][:,0],train_list[key][:,1],'.-')\n",
    "plt.xlabel('Updates steps')\n",
    "plt.ylabel('Errors (%)')\n",
    "plt.xlim((0,10000))\n",
    "plt.title('Average  Reconstruction Error of 5420 Training Images')\n",
    "plt.grid('on')\n",
    "plt.savefig('train_short.pdf')\n",
    "#plt.show()\n",
    "plt.clf()"
   ]
  },
  {
   "cell_type": "code",
   "execution_count": 101,
   "metadata": {
    "collapsed": true
   },
   "outputs": [],
   "source": [
    "for key in train_list.keys():\n",
    "    plt.plot(train_list[key][:,0],train_list[key][:,1],'.-')\n",
    "plt.xlabel('Updates steps')\n",
    "plt.ylabel('Errors (%)')\n",
    "plt.title('Average  Reconstruction Error of 5420 Training Images')\n",
    "plt.grid('on')\n",
    "plt.savefig('train_long.pdf')\n",
    "#plt.show()\n",
    "plt.clf()"
   ]
  },
  {
   "cell_type": "code",
   "execution_count": 65,
   "metadata": {
    "collapsed": false
   },
   "outputs": [],
   "source": [
    "key = test_list.keys()[2]\n",
    "plt.plot(test_list[key][:,0],test_list[key][:,1])\n",
    "plt.show()"
   ]
  },
  {
   "cell_type": "code",
   "execution_count": null,
   "metadata": {
    "collapsed": true
   },
   "outputs": [],
   "source": []
  }
 ],
 "metadata": {
  "kernelspec": {
   "display_name": "Python 2",
   "language": "python",
   "name": "python2"
  },
  "language_info": {
   "codemirror_mode": {
    "name": "ipython",
    "version": 2
   },
   "file_extension": ".py",
   "mimetype": "text/x-python",
   "name": "python",
   "nbconvert_exporter": "python",
   "pygments_lexer": "ipython2",
   "version": "2.7.6"
  }
 },
 "nbformat": 4,
 "nbformat_minor": 0
}
