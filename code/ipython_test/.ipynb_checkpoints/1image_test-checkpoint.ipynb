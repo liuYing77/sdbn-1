{
 "cells": [
  {
   "cell_type": "code",
   "execution_count": 1,
   "metadata": {
    "collapsed": true
   },
   "outputs": [],
   "source": [
    "%matplotlib inline\n",
    "import numpy as np\n",
    "import poisson_tools as pt\n",
    "import matplotlib.pyplot as plt\n",
    "from scipy.special import expit"
   ]
  },
  {
   "cell_type": "code",
   "execution_count": 2,
   "metadata": {
    "collapsed": false
   },
   "outputs": [],
   "source": [
    "train_x, train_y = pt.get_train_data()\n",
    "train_x = train_x > 50"
   ]
  },
  {
   "cell_type": "code",
   "execution_count": 3,
   "metadata": {
    "collapsed": false
   },
   "outputs": [
    {
     "data": {
      "image/png": "[encoded data removed]",
      "text/plain": [
       "<matplotlib.figure.Figure at 0x7f34c57711d0>"
      ]
     },
     "metadata": {},
     "output_type": "display_data"
    }
   ],
   "source": [
    "pt.plot_digit(train_x[59997])\n",
    "plt.savefig('test.pdf')"
   ]
  },
  {
   "cell_type": "code",
   "execution_count": 4,
   "metadata": {
    "collapsed": false
   },
   "outputs": [],
   "source": [
    "digit = 5\n",
    "label_list = np.array(train_y).astype(int)\n",
    "index_digit = np.where(label_list==digit)[0]\n",
    "train_num = len(index_digit)-1\n",
    "index_train = index_digit[0:train_num]\n",
    "Data_v = np.array(train_x[index_train]).astype(float)"
   ]
  },
  {
   "cell_type": "markdown",
   "metadata": {},
   "source": [
    "# Initialisation of W, a and b"
   ]
  },
  {
   "cell_type": "code",
   "execution_count": 5,
   "metadata": {
    "collapsed": false
   },
   "outputs": [],
   "source": [
    "hiden_num = 500\n",
    "W = np.random.normal(0,0.01,Data_v.shape[1]*hiden_num)\n",
    "W = W.reshape((Data_v.shape[1],hiden_num))\n",
    "b = np.zeros(hiden_num)\n",
    "pixel_on = np.sum(Data_v,0)\n",
    "a = np.log((pixel_on + 0.01)/(train_num - pixel_on + 0.01))\n",
    "eta = 0.001"
   ]
  },
  {
   "cell_type": "markdown",
   "metadata": {},
   "source": [
    "# Given V0, get (v0, h0) and (v1, h1)"
   ]
  },
  {
   "cell_type": "code",
   "execution_count": 6,
   "metadata": {
    "collapsed": false
   },
   "outputs": [],
   "source": [
    "def sigmoid_sampling(data, weight, bias):\n",
    "    sum_data = np.dot(data, weight) + bias\n",
    "    prob = expit(sum_data)\n",
    "    rdm = np.random.random(prob.shape)\n",
    "    index_on = rdm < prob\n",
    "    samples = np.zeros(prob.shape)\n",
    "    samples[index_on]=1.\n",
    "    return samples\n",
    "    "
   ]
  },
  {
   "cell_type": "code",
   "execution_count": 8,
   "metadata": {
    "collapsed": false
   },
   "outputs": [],
   "source": [
    "def update_para(v0, h0, v1, h1, a, b, w, eta ):\n",
    "    delta_a = np.zeros(v0.shape)\n",
    "    delta_b = np.zeros(h0.shape)\n",
    "    delta_w = np.zeros(w.shape)\n",
    "    batch_size = v0.shape[0]\n",
    "    \n",
    "    delta_a = eta * (v0 - v1)\n",
    "    delta_b = eta * (h0 - h1)\n",
    "    for k in range(batch_size):\n",
    "        v0_matrix = np.transpose(np.tile(v0[k],(w.shape[1],1)))\n",
    "        v1_matrix = np.transpose(np.tile(v1[k],(w.shape[1],1)))\n",
    "        h0_matrix = np.tile(h0[k],(w.shape[0],1))\n",
    "        h1_matrix = np.tile(h1[k],(w.shape[0],1))\n",
    "        delta_w += eta * (v0_matrix*h0_matrix - v1_matrix*h1_matrix)\n",
    "    \n",
    "    a += np.average(delta_a,0)\n",
    "    b += np.average(delta_b,0)\n",
    "    w += delta_w/np.float(batch_size)\n",
    "    return a, b, w"
   ]
  },
  {
   "cell_type": "code",
   "execution_count": 9,
   "metadata": {
    "collapsed": false
   },
   "outputs": [],
   "source": [
    "batch_size = 1\n",
    "for iteration in range(1):\n",
    "    for k in range(0,train_num,batch_size):\n",
    "        data_v = Data_v[k:k+batch_size]\n",
    "        data_h = sigmoid_sampling(data_v, W, b)\n",
    "        gibbs_v = sigmoid_sampling(data_h, W.transpose(), a)\n",
    "        gibbs_h = sigmoid_sampling(gibbs_v, W, b)\n",
    "        a, b, W = update_para(data_v, data_h, gibbs_v, gibbs_h, a, b, W, eta)"
   ]
  },
  {
   "cell_type": "code",
   "execution_count": 10,
   "metadata": {
    "collapsed": false
   },
   "outputs": [
    {
     "data": {
      "image/png": "[encoded data removed]",
      "text/plain": [
       "<matplotlib.figure.Figure at 0x7f34c4a548d0>"
      ]
     },
     "metadata": {},
     "output_type": "display_data"
    }
   ],
   "source": [
    "data_v = np.array(train_x[index_digit[train_num]]).astype(float)\n",
    "data_h = sigmoid_sampling(data_v, W, b)\n",
    "recon = sigmoid_sampling(data_h, W.transpose(), a)\n",
    "pt.plot_digit(recon)"
   ]
  },
  {
   "cell_type": "code",
   "execution_count": null,
   "metadata": {
    "collapsed": true
   },
   "outputs": [],
   "source": []
  }
 ],
 "metadata": {
  "kernelspec": {
   "display_name": "Python 2",
   "language": "python",
   "name": "python2"
  },
  "language_info": {
   "codemirror_mode": {
    "name": "ipython",
    "version": 2
   },
   "file_extension": ".py",
   "mimetype": "text/x-python",
   "name": "python",
   "nbconvert_exporter": "python",
   "pygments_lexer": "ipython2",
   "version": "2.7.6"
  }
 },
 "nbformat": 4,
 "nbformat_minor": 0
}
