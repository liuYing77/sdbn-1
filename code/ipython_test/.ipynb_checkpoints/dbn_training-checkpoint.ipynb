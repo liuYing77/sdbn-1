{
 "cells": [
  {
   "cell_type": "code",
   "execution_count": 38,
   "metadata": {
    "collapsed": false
   },
   "outputs": [],
   "source": [
    "'''\n",
    "Deep Belief Net training\n",
    "'''\n",
    "import sys\n",
    "import random\n",
    "import numpy as np\n",
    "import poisson_tools as pt\n",
    "import matplotlib.pyplot as plt\n",
    "from scipy.special import expit"
   ]
  },
  {
   "cell_type": "code",
   "execution_count": 39,
   "metadata": {
    "collapsed": false
   },
   "outputs": [],
   "source": [
    "def init_dbn(nodes, data_train):\n",
    "    '''\n",
    "    nodes, training paras like epoc...\n",
    "    '''\n",
    "    dbnet = {}\n",
    "    dbnet['nodes'] = nodes\n",
    "    dbnet['top_num'] = 2\n",
    "    dbnet['h_num'] = len(nodes) - 2 # hidden \n",
    "    dbnet['w_up'] = []\n",
    "    dbnet['w_down'] = []\n",
    "    dbnet['b_up'] = []\n",
    "    dbnet['b_down'] = []\n",
    "        \n",
    "    for layer in range(dbnet['h_num']-1):\n",
    "        w = np.random.normal(0,0.01, nodes[layer] * nodes[layer+1] )\n",
    "        w = w.reshape((nodes[layer], nodes[layer+1]))\n",
    "        dbnet['w_up'].append(w)\n",
    "        dbnet['w_down'].append(np.array([]))\n",
    "        dbnet['b_up'].append(np.zeros(nodes[layer]))\n",
    "        dbnet['b_down'].append(np.zeros(nodes[layer]))\n",
    "    dbnet['b_up'].append(np.zeros(nodes[layer]))\n",
    "    dbnet['b_down'].append(np.zeros(nodes[layer]))\n",
    "    \n",
    "    # top layers\n",
    "    w = np.random.normal(0,0.01, (nodes[dbnet['h_num']-1] + nodes[dbnet['h_num']+1] ) * nodes[dbnet['h_num']] )\n",
    "    w = w.reshape((nodes[dbnet['h_num']-1] + nodes[dbnet['h_num']+1], nodes[dbnet['h_num']]))\n",
    "    dbnet['w_top'] = w\n",
    "    dbnet['a_top'] = np.zeros(nodes[dbnet['h_num']-1] + nodes[dbnet['h_num']+1])\n",
    "    dbnet['b_top'] = np.zeros(nodes[dbnet['h_num']])\n",
    "    \n",
    "    dbnet['epoc'] = 1\n",
    "    dbnet['batch'] = 50\n",
    "    \n",
    "    train_num = data_train.shape[0]\n",
    "    pixel_on = np.sum(data_train,0)\n",
    "    a = np.log((pixel_on + 0.01)/(train_num - pixel_on + 0.01))\n",
    "    dbnet['b_down'][0] = a #init bias on visible unites\n",
    "    return dbnet"
   ]
  },
  {
   "cell_type": "code",
   "execution_count": 40,
   "metadata": {
    "collapsed": true
   },
   "outputs": [],
   "source": [
    "def sigmoid_sampling(data, weight, bias):\n",
    "    sum_data = np.dot(data, weight) + bias\n",
    "    prob = expit(sum_data)\n",
    "    rdm = np.random.random(prob.shape)\n",
    "    index_on = rdm < prob\n",
    "    samples = np.zeros(prob.shape)\n",
    "    samples[index_on]=1.\n",
    "    return samples"
   ]
  },
  {
   "cell_type": "code",
   "execution_count": 41,
   "metadata": {
    "collapsed": false
   },
   "outputs": [],
   "source": [
    "def get_gendata(dbnet, curr_layer, data, direction):\n",
    "    data_gen = data\n",
    "    if direction == 'up':\n",
    "        for l in range(curr_layer):\n",
    "            data_gen = sigmoid_sampling(data_gen, dbnet['w_up'][l], dbnet['b_up'][l+1])\n",
    "    elif direction == 'down':\n",
    "        for l in range(curr_layer):\n",
    "            data_gen = sigmoid_sampling(data_gen, dbnet['w_down'][l], dbnet['b_down'][l-1])\n",
    "    return data_gen\n",
    "        "
   ]
  },
  {
   "cell_type": "code",
   "execution_count": 42,
   "metadata": {
    "collapsed": false
   },
   "outputs": [],
   "source": [
    "def update(v0, h0, v1, h1, a, b, w, eta ):    \n",
    "    delta_a = eta * (v0 - v1)\n",
    "    delta_b = eta * (h0 - h1)\n",
    "    v0_matrix = np.transpose(np.tile(v0,(w.shape[1],1)))\n",
    "    v1_matrix = np.transpose(np.tile(v1,(w.shape[1],1)))\n",
    "    h0_matrix = np.tile(h0,(w.shape[0],1))\n",
    "    h1_matrix = np.tile(h1,(w.shape[0],1))\n",
    "    delta_w = eta * (v0_matrix*h0_matrix - v1_matrix*h1_matrix)\n",
    "    \n",
    "    a += delta_a\n",
    "    b += delta_b\n",
    "    w += delta_w\n",
    "    return a, b, w\n",
    "\n",
    "def CD1_update(data_v, a, b, w):\n",
    "    eta = 0.001\n",
    "    for k in range(data_v.shape[0]):\n",
    "        data_h = sigmoid_sampling(data_v[k], w, b)\n",
    "        gibbs_v = sigmoid_sampling(data_h, w.transpose(), a)\n",
    "        gibbs_h = sigmoid_sampling(gibbs_v, w, b)\n",
    "        a, b, w = update(data_v[k], data_h, gibbs_v, gibbs_h, a, b, w, eta)\n",
    "    return a, b, w"
   ]
  },
  {
   "cell_type": "code",
   "execution_count": 43,
   "metadata": {
    "collapsed": false
   },
   "outputs": [],
   "source": [
    "def RBM_train(dbnet, curr_layer, Data_v):\n",
    "    train_num = Data_v.shape[0]\n",
    "    w = dbnet['w_up'][curr_layer]\n",
    "    a = dbnet['b_down'][curr_layer]\n",
    "    b = dbnet['b_up'][curr_layer+1]\n",
    "    for epoc in range (dbnet['epoc']):\n",
    "        print 'RBM training epoc:', epoc+1\n",
    "        for k in range(0, train_num, dbnet['batch']):\n",
    "            max_bsize = min(train_num-k, dbnet['batch'])\n",
    "            data_v = Data_v[k:k+max_bsize]\n",
    "            data_v = get_gendata(dbnet, curr_layer, data_v, 'up')\n",
    "            a, b, w = CD1_update(data_v, a, b, w)\n",
    "    dbnet['w_up'][curr_layer] = w\n",
    "    dbnet['b_down'][curr_layer] = a\n",
    "    dbnet['b_up'][curr_layer+1] = b\n",
    "    dbnet['w_down'][curr_layer] = np.transpose(dbnet['w_up'][curr_layer])\n",
    "    return dbnet"
   ]
  },
  {
   "cell_type": "code",
   "execution_count": 52,
   "metadata": {
    "collapsed": true
   },
   "outputs": [],
   "source": [
    "def RBM_top(dbnet, Data_v, Labels):\n",
    "    train_num = Data_v.shape[0]\n",
    "    w = dbnet['w_top']\n",
    "    a = dbnet['a_top']\n",
    "    b = dbnet['b_top']\n",
    "    for epoc in range (dbnet['epoc']):\n",
    "        print 'RBM training epoc:', epoc+1\n",
    "        for k in range(0, train_num, dbnet['batch']):\n",
    "            max_bsize = min(train_num-k, dbnet['batch'])\n",
    "            data_v = Data_v[k:k+max_bsize]\n",
    "            data_v = get_gendata(dbnet, dbnet['h_num']-1, data_v, 'up')\n",
    "            label = Labels[k:k+max_bsize]\n",
    "            d_label = np.zeros((max_bsize, 10))\n",
    "            for i in range(max_bsize):\n",
    "                d_label[i, int(label[i])] = 1.\n",
    "            data_v = np.append(data_v,d_label, axis=1)\n",
    "            a, b, w = CD1_update(data_v, a, b, w)\n",
    "    dbnet['w_top'] = w\n",
    "    dbnet['a_top'] = a\n",
    "    dbnet['b_top'] = b\n",
    "    return dbnet"
   ]
  },
  {
   "cell_type": "code",
   "execution_count": 45,
   "metadata": {
    "collapsed": false
   },
   "outputs": [],
   "source": [
    "def up_pass(dbnet, data):\n",
    "    eta = 0.001\n",
    "    d_up = []\n",
    "    d_down = []\n",
    "    d_up.append(data)\n",
    "    for layer in range(dbnet['h_num']-1):\n",
    "        d_up.append(sigmoid_sampling(d_up[layer], dbnet['w_up'][layer], dbnet['b_up'][layer+1]))\n",
    "        d_down.append(predict(d_up[layer+1], dbnet['w_down'][layer], dbnet['b_down'][layer])) #probability instead of states of 0 and 1\n",
    "        delta_w = eta*matrix_times(d_up[layer+1], d_up[layer]-d_down[layer])\n",
    "        delta_b = eta*(d_up[layer]-d_down[layer])\n",
    "        dbnet['w_down'][layer] += delta_w\n",
    "        dbnet['b_down'][layer] += delta_b\n",
    "    output = d_up[dbnet['h_num']-1]\n",
    "    return dbnet, output\n",
    "\n",
    "def down_pass(dbnet, data):\n",
    "    eta = 0.001\n",
    "    d_up = []\n",
    "    d_down = []\n",
    "    for layer in range(dbnet['h_num']):\n",
    "        d_up.append(np.array([]))\n",
    "        d_down.append(np.array([]))\n",
    "    d_down[-1] = data\n",
    "    for layer in range(dbnet['h_num']-1,0,-1):\n",
    "        d_down[layer-1] = sigmoid_sampling(d_down[layer], dbnet['w_down'][layer-1], dbnet['b_down'][layer-1])\n",
    "        d_up[layer] = predict(d_down[layer-1], dbnet['w_up'][layer-1], dbnet['b_up'][layer]) #probability instead of states of 0 and 1\n",
    "        delta_w = eta*matrix_times(d_down[layer-1], d_down[layer]-d_up[layer])\n",
    "        delta_b = eta*(d_down[layer]-d_up[layer])\n",
    "        dbnet['w_up'][layer-1] += delta_w\n",
    "        dbnet['b_up'][layer] += delta_b\n",
    "    return dbnet\n",
    "\n",
    "def predict(data, weight, bias):\n",
    "    sum_data = np.dot(data, weight) + bias\n",
    "    prob = expit(sum_data)\n",
    "    return prob\n",
    "\n",
    "def matrix_times(m, n):\n",
    "    m_matrix = np.transpose(np.tile(m,(len(n), 1)))\n",
    "    n_matrix = np.tile(n,(len(m), 1))\n",
    "    return m_matrix*n_matrix"
   ]
  },
  {
   "cell_type": "code",
   "execution_count": 46,
   "metadata": {
    "collapsed": false
   },
   "outputs": [],
   "source": [
    "def top_train(dbnet, data, label):\n",
    "    eta = 0.001\n",
    "    d_label = np.zeros(10)\n",
    "    d_label[int(label)]=1.\n",
    "    d_bottom = np.append(data, d_label)\n",
    "    d_up = sigmoid_sampling(d_bottom, dbnet['w_top'], dbnet['b_top'])\n",
    "    d_bottom_gibb = sigmoid_sampling(d_up, np.transpose(dbnet['w_top']), dbnet['a_top'])\n",
    "    d_up_gibb = sigmoid_sampling(d_bottom_gibb, dbnet['w_top'], dbnet['b_top'])\n",
    "    a, b, w = update(d_bottom, d_up, d_bottom_gibb, d_up_gibb, dbnet['a_top'],  dbnet['b_top'], dbnet['w_top'], eta)\n",
    "    dbnet['a_top'] = a\n",
    "    dbnet['b_top'] = b\n",
    "    dbnet['w_top'] = w\n",
    "    return dbnet, d_bottom_gibb[0:len(data)]"
   ]
  },
  {
   "cell_type": "code",
   "execution_count": 47,
   "metadata": {
    "collapsed": true
   },
   "outputs": [],
   "source": [
    "def fine_tuning(dbnet, Data_v, Labels):\n",
    "    eta = 0.001\n",
    "    train_num = Data_v.shape[0]\n",
    "\n",
    "    for epoc in range (dbnet['epoc']):\n",
    "        print 'epoc for fine_tuning: ', epoc+1\n",
    "        for k in range(train_num):\n",
    "            #UP-pass\n",
    "            dbnet, top_input = up_pass(dbnet, Data_v[k]) # update dbnet\n",
    "            #Top two layers as assoiciate memory\n",
    "            #Train like RBM\n",
    "            dbnet, top_output = top_train(dbnet, top_input, Labels[k])\n",
    "            #Down-pass\n",
    "            dbnet = down_pass(dbnet, top_output) # update dbnet\n",
    "    return dbnet"
   ]
  },
  {
   "cell_type": "code",
   "execution_count": 48,
   "metadata": {
    "collapsed": true
   },
   "outputs": [],
   "source": [
    "def testing(dbnet, test_v, label):\n",
    "    d_up=[]\n",
    "    d_up.append(test_v)\n",
    "    for layer in range(dbnet['h_num']-1):\n",
    "        d_up.append(sigmoid_sampling(d_up[layer], dbnet['w_up'][layer], dbnet['b_up'][layer+1]))\n",
    "    #top layers\n",
    "    num_pen = dbnet['nodes'][dbnet['h_num']-1]\n",
    "    d_top = sigmoid_sampling(d_up[-1], dbnet['w_top'][0:num_pen,:], dbnet['b_top'])\n",
    "    d_bottom = sigmoid_sampling(d_top, np.transpose(dbnet['w_top']), dbnet['a_top'])\n",
    "    d_down = []\n",
    "    for layer in range(dbnet['h_num']):\n",
    "        d_down.append(np.array([]))\n",
    "    d_down[-1] = d_bottom[0:num_pen]\n",
    "    d_label = d_bottom[num_pen:]\n",
    "    \n",
    "    for layer in range(dbnet['h_num']-1,0,-1):\n",
    "        d_down[layer-1] = sigmoid_sampling(d_down[layer], dbnet['w_down'][layer-1], dbnet['b_down'][layer-1])\n",
    "    \n",
    "    predict = np.argmax(d_label)\n",
    "    if predict == label :\n",
    "        if d_label[predict]==1.0:\n",
    "            result = 1\n",
    "        else:\n",
    "            result = -1\n",
    "    elif max(d_label) == 1.0:\n",
    "        result = 0\n",
    "    else:\n",
    "        result = -1\n",
    "    \n",
    "    \n",
    "    #pt.plot_digit(d_down[0])\n",
    "    #plt.show()\n",
    "    return result"
   ]
  },
  {
   "cell_type": "code",
   "execution_count": 49,
   "metadata": {
    "collapsed": false
   },
   "outputs": [],
   "source": [
    "train_x, train_y = pt.get_train_data()\n",
    "train_x = train_x > 50\n",
    "train_num = 1\n",
    "#digit = 5\n",
    "label_list = np.array(train_y).astype(int)\n",
    "index_digit = np.where(label_list<10)[0]\n",
    "if train_num <= 1 or train_num > len(index_digit):\n",
    "    train_num = len(index_digit) - 1\n",
    "else:\n",
    "    train_num = train_num - 1\n",
    "\n",
    "index_train = index_digit[0:train_num]\n",
    "Data_v = np.array(train_x[index_train]).astype(float)\n",
    "Labels = train_y[index_train]\n"
   ]
  },
  {
   "cell_type": "code",
   "execution_count": null,
   "metadata": {
    "collapsed": true
   },
   "outputs": [],
   "source": [
    "np.random.seed(0)\n",
    "nodes = [784, 500, 500, 2000, 10]\n",
    "dbnet = init_dbn(nodes, Data_v)\n",
    "# Greedy Train RBMs layer by layer\n",
    "for layer in range(dbnet['h_num']-1):\n",
    "    dbnet = RBM_train(dbnet, layer, Data_v)"
   ]
  },
  {
   "cell_type": "code",
   "execution_count": null,
   "metadata": {
    "collapsed": false
   },
   "outputs": [],
   "source": [
    "dbnet = RBM_top(dbnet, Data_v, Labels)\n",
    "dbnet = fine_tuning(dbnet, Data_v, Labels)"
   ]
  },
  {
   "cell_type": "code",
   "execution_count": null,
   "metadata": {
    "collapsed": false
   },
   "outputs": [],
   "source": [
    "test_x, test_y = pt.get_test_data()\n",
    "test_x = test_x > 50\n",
    "result = []\n",
    "for i in range(10):#(len(test_x)):\n",
    "    result.append(testing(dbnet, test_x[i], test_y[i]))\n",
    "correct = len(np.where(result==1))\n",
    "false = len(np.where(result==0))\n",
    "unclassify = len(np.where(result==-1))\n",
    "print 'correct rate is: ', correct/len(test_x)*100."
   ]
  },
  {
   "cell_type": "code",
   "execution_count": null,
   "metadata": {
    "collapsed": true
   },
   "outputs": [],
   "source": []
  }
 ],
 "metadata": {
  "kernelspec": {
   "display_name": "Python 2",
   "language": "python",
   "name": "python2"
  },
  "language_info": {
   "codemirror_mode": {
    "name": "ipython",
    "version": 2
   },
   "file_extension": ".py",
   "mimetype": "text/x-python",
   "name": "python",
   "nbconvert_exporter": "python",
   "pygments_lexer": "ipython2",
   "version": "2.7.6"
  }
 },
 "nbformat": 4,
 "nbformat_minor": 0
}
