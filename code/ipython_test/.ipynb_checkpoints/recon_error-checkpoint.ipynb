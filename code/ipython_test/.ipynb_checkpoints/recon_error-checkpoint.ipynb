{
 "cells": [
  {
   "cell_type": "code",
   "execution_count": 24,
   "metadata": {
    "collapsed": false
   },
   "outputs": [],
   "source": [
    "%matplotlib inline\n",
    "import numpy as np\n",
    "import poisson_tools as pt\n",
    "import matplotlib.pyplot as plt\n",
    "from scipy.special import expit"
   ]
  },
  {
   "cell_type": "code",
   "execution_count": 25,
   "metadata": {
    "collapsed": true
   },
   "outputs": [],
   "source": [
    "def sigmoid_sampling(data, weight, bias):\n",
    "    sum_data = np.dot(data, weight) + bias\n",
    "    prob = expit(sum_data)\n",
    "    rdm = np.random.random(prob.shape)\n",
    "    index_on = rdm < prob\n",
    "    samples = np.zeros(prob.shape)\n",
    "    samples[index_on]=1.\n",
    "    return samples\n",
    "    "
   ]
  },
  {
   "cell_type": "code",
   "execution_count": 26,
   "metadata": {
    "collapsed": true
   },
   "outputs": [],
   "source": [
    "a,b,W = np.load('/home/liuq/Pictures/theta/5420_b1_epoc10.npy')\n",
    "test_x, test_y = pt.get_test_data()\n",
    "test_x = test_x > 50\n",
    "digit = 5\n",
    "label_list = np.array(test_y).astype(int)\n",
    "index_digit = np.where(label_list==digit)[0]\n",
    "test_num = len(index_digit)\n",
    "index_test = index_digit[0:test_num]\n",
    "test_v = np.array(test_x[index_test]).astype(float)"
   ]
  },
  {
   "cell_type": "code",
   "execution_count": 36,
   "metadata": {
    "collapsed": false
   },
   "outputs": [
    {
     "name": "stdout",
     "output_type": "stream",
     "text": [
      "42947.0\n"
     ]
    }
   ],
   "source": [
    "np.random.seed(0)\n",
    "error = 0.\n",
    "for i in range(test_num):  #(test_num):\n",
    "    test = test_v[i]\n",
    "    test_h = sigmoid_sampling(test, W, b)\n",
    "    recon = sigmoid_sampling(test_h, W.transpose(), a)\n",
    "    error += np.sum(np.abs(recon-test))\n",
    "print error\n",
    "#pt.plot_digit(recon)\n",
    "#pt.plot_digit(recon-test)"
   ]
  },
  {
   "cell_type": "code",
   "execution_count": 38,
   "metadata": {
    "collapsed": false
   },
   "outputs": [],
   "source": [
    "train_x, train_y = pt.get_train_data()\n",
    "train_x = train_x > 50\n",
    "digit = 5\n",
    "label_list = np.array(train_y).astype(int)\n",
    "index_digit = np.where(label_list==digit)[0]\n",
    "train_num = len(index_digit)\n",
    "index_train = index_digit[0:train_num]\n",
    "train_v = np.array(train_x[index_train]).astype(float)"
   ]
  },
  {
   "cell_type": "code",
   "execution_count": null,
   "metadata": {
    "collapsed": true
   },
   "outputs": [],
   "source": [
    "error = 0.\n",
    "for i in range(train_num):  #(test_num):\n",
    "    train = train_v[i]\n",
    "    train_h = sigmoid_sampling(train, W, b)\n",
    "    recon = sigmoid_sampling(train_h, W.transpose(), a)\n",
    "    error += np.sum(np.abs(recon-train))\n",
    "print error"
   ]
  }
 ],
 "metadata": {
  "kernelspec": {
   "display_name": "Python 2",
   "language": "python",
   "name": "python2"
  },
  "language_info": {
   "codemirror_mode": {
    "name": "ipython",
    "version": 2
   },
   "file_extension": ".py",
   "mimetype": "text/x-python",
   "name": "python",
   "nbconvert_exporter": "python",
   "pygments_lexer": "ipython2",
   "version": "2.7.6"
  }
 },
 "nbformat": 4,
 "nbformat_minor": 0
}
