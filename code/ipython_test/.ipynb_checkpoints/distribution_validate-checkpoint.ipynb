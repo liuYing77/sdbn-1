{
 "cells": [
  {
   "cell_type": "code",
   "execution_count": 15,
   "metadata": {
    "collapsed": false
   },
   "outputs": [],
   "source": [
    "#%matplotlib inline\n",
    "import numpy as np\n",
    "import matplotlib.pyplot as plt\n",
    "import poisson_tools as pt\n",
    "import matplotlib.patches as mpatches\n",
    "from scipy.special import expit\n",
    "import scipy.cluster.vq as spvq\n",
    "import scipy.spatial.distance as spdt\n",
    "import matplotlib.cm as cm\n",
    "from scipy.optimize import curve_fit\n",
    "import statsmodels.api as sm\n",
    "#from scipy.stats import poisson\n",
    "from scipy.misc import factorial"
   ]
  },
  {
   "cell_type": "code",
   "execution_count": 16,
   "metadata": {
    "collapsed": true
   },
   "outputs": [],
   "source": [
    "def sigmoid_sampling(data, weight, bias):\n",
    "    sum_data = np.dot(data, weight) + bias\n",
    "    prob = expit(sum_data)\n",
    "    rdm = np.random.random(prob.shape)\n",
    "    index_on = rdm < prob\n",
    "    samples = np.zeros(prob.shape)\n",
    "    samples[index_on]=1.\n",
    "    return samples"
   ]
  },
  {
   "cell_type": "code",
   "execution_count": 17,
   "metadata": {
    "collapsed": true
   },
   "outputs": [],
   "source": [
    "def avg_distr(a, b, w, sample_num, init_v):\n",
    "    gibbs_v = np.zeros((sample_num, a.shape[0]))\n",
    "    gibbs_v[0] = init_v\n",
    "    for g_step in range(1, sample_num):\n",
    "        gibbs_h = sigmoid_sampling(gibbs_v[g_step-1], w, b)\n",
    "        gibbs_v[g_step] = sigmoid_sampling(gibbs_h, w.transpose(), a)\n",
    "    return gibbs_v, np.average(gibbs_v,0)"
   ]
  },
  {
   "cell_type": "code",
   "execution_count": 18,
   "metadata": {
    "collapsed": true
   },
   "outputs": [],
   "source": [
    "def plot_distance(sample_nums, dis_matrix, clabel, **kwargs):\n",
    "    ax = kwargs.pop('ax', plt.gca())\n",
    "    mmax = np.max(dis_matrix,0)\n",
    "    mmin = np.min(dis_matrix,0)\n",
    "    avg = np.average(dis_matrix,0)\n",
    "    base_line, = ax.semilogx(sample_nums, avg, linewidth = 2., label = clabel, **kwargs)\n",
    "    ax.fill_between(sample_nums, mmax, mmin, facecolor=base_line.get_color(), alpha=.4, linewidth=0)\n",
    "    legend = ax.legend(loc='lower left', shadow=True)"
   ]
  },
  {
   "cell_type": "code",
   "execution_count": 19,
   "metadata": {
    "collapsed": true
   },
   "outputs": [],
   "source": [
    "def poisson(k, lamb):\n",
    "    return (lamb**k/factorial(k)) * np.exp(-lamb)\n",
    "def gauss(x, A, mu, sigma):\n",
    "    return A*np.exp(-(x-mu)**2/(2.*sigma**2))"
   ]
  },
  {
   "cell_type": "code",
   "execution_count": 20,
   "metadata": {
    "collapsed": false
   },
   "outputs": [],
   "source": [
    "train_x, train_y = pt.get_train_data()\n",
    "train_x = train_x > 50\n",
    "\n",
    "digit = 5\n",
    "label_list = np.array(train_y).astype(int)\n",
    "index_digit = np.where(label_list==digit)[0]\n",
    "train_num = len(index_digit) - 1\n",
    "index_train = index_digit[0:train_num]\n",
    "Data_v = np.array(train_x[index_train]).astype(float)\n",
    "k_center = spvq.kmeans(Data_v, 1)\n",
    "dis_D=[]\n",
    "for i in range(len(Data_v)):\n",
    "    dis_D.append(np.linalg.norm(Data_v[i]-k_center[0]))"
   ]
  },
  {
   "cell_type": "code",
   "execution_count": 21,
   "metadata": {
    "collapsed": false
   },
   "outputs": [],
   "source": [
    "his = np.histogram(dis_D) #, bins=[0, 1, 2, 3]\n",
    "mid_bin = 0.5*(his[1][1:] + his[1][:-1])\n",
    "stat = his[0]*1./sum(his[0])\n",
    "plt.clf()\n",
    "plt.bar(his[1][:-1], stat, width=np.average(his[1][1:] - his[1][:-1]))\n",
    "parameters, cov_matrix = curve_fit(gauss, mid_bin, stat)\n",
    "x_plot = np.linspace(6, 12, 1000)\n",
    "plt.xlabel('Distance to the cluster centre')\n",
    "plt.ylabel('Probability')\n",
    "plt.plot(x_plot, gauss(x_plot, *parameters), 'g-', lw=2)\n",
    "plt.draw()\n",
    "plt.savefig('plot/mnist/train_dist.pdf')\n",
    "#plt.show()\n"
   ]
  },
  {
   "cell_type": "code",
   "execution_count": 22,
   "metadata": {
    "collapsed": true
   },
   "outputs": [],
   "source": [
    "np.random.seed(0)"
   ]
  },
  {
   "cell_type": "code",
   "execution_count": 23,
   "metadata": {
    "collapsed": false
   },
   "outputs": [],
   "source": [
    "init_v = Data_v[0]\n",
    "para = []\n",
    "for step in range(100, 1000, 100):\n",
    "    fname = '/home/liuq/apt/2ndYear/sDBN/cdk/5420_b1000_epoc%05d_cdk.npy'%(step)\n",
    "    a, b, w = np.load(fname)\n",
    "    dis = []\n",
    "    s_num = pow(10, 4)\n",
    "    data_g, tmp= avg_distr(a, b, w, s_num, init_v)\n",
    "    for i in range(s_num):\n",
    "        dis.append(np.linalg.norm(data_g[i]-k_center[0]))\n",
    "    his_g = np.histogram(dis) #, bins=[0, 1, 2, 3]\n",
    "    mid_g = 0.5*(his_g[1][1:] + his_g[1][:-1])\n",
    "    stat_g = his_g[0]*1./sum(his_g[0])\n",
    "    #parameters, cov_matrix = curve_fit(gauss, mid_g, stat_g)\n",
    "    #para.append(parameters)\n",
    "    para.append([0., np.mean(dis), np.var(dis)])\n",
    "    plt.clf()\n",
    "    plt.bar(his_g[1][:-1], stat_g, width=np.average(his_g[1][1:] - his_g[1][:-1]))\n",
    "    plt.xlabel('Distance to the cluster centre')\n",
    "    plt.ylabel('Probability')\n",
    "    plt.xlim((6,12))\n",
    "    plt.ylim((0,0.3))\n",
    "    plt.draw()\n",
    "    plt.savefig('plot/mnist/cdk_%d.pdf'%step)\n",
    "    #plt.show()\n",
    "para = np.array(para)"
   ]
  },
  {
   "cell_type": "code",
   "execution_count": 24,
   "metadata": {
    "collapsed": false
   },
   "outputs": [],
   "source": [
    "ind = np.where(para[:,1]>6)[0]\n",
    "plt.clf()\n",
    "plt.plot(para[ind, 1], para[ind, 2])\n",
    "parameters, cov_matrix = curve_fit(gauss, mid_bin, stat)\n",
    "plt.plot(parameters[1], parameters[2], 'r.')\n",
    "plt.title('Parameter searching for 6K steps')\n",
    "plt.draw()\n",
    "plt.savefig('plot/mnist/cdk_para.pdf')"
   ]
  },
  {
   "cell_type": "code",
   "execution_count": 25,
   "metadata": {
    "collapsed": true
   },
   "outputs": [],
   "source": [
    "init_v = Data_v[0]\n",
    "para = []\n",
    "for step in range(100, 1000, 100):\n",
    "    fname = '/home/liuq/apt/2ndYear/sDBN/theta/5420_b1000_epoc%05d_cd.npy'%(step)\n",
    "    a, b, w = np.load(fname)\n",
    "    dis = []\n",
    "    s_num = pow(10, 4)\n",
    "    data_g, tmp= avg_distr(a, b, w, s_num, init_v)\n",
    "    for i in range(s_num):\n",
    "        dis.append(np.linalg.norm(data_g[i]-k_center[0]))\n",
    "    his_g = np.histogram(dis) #, bins=[0, 1, 2, 3]\n",
    "    mid_g = 0.5*(his_g[1][1:] + his_g[1][:-1])\n",
    "    stat_g = his_g[0]*1./sum(his_g[0])\n",
    "    #parameters, cov_matrix = curve_fit(gauss, mid_g, stat_g)\n",
    "    #para.append(parameters)\n",
    "    para.append([0., np.mean(dis), np.var(dis)])\n",
    "    plt.clf()\n",
    "    plt.bar(his_g[1][:-1], stat_g, width=np.average(his_g[1][1:] - his_g[1][:-1]))\n",
    "    plt.xlabel('Distance to the cluster centre')\n",
    "    plt.ylabel('Probability')\n",
    "    plt.xlim((6,12))\n",
    "    plt.ylim((0,0.3))\n",
    "    plt.draw()\n",
    "    plt.savefig('plot/mnist/kcd_%d.pdf'%step)\n",
    "    #plt.show()\n",
    "para = np.array(para)"
   ]
  },
  {
   "cell_type": "code",
   "execution_count": 26,
   "metadata": {
    "collapsed": false
   },
   "outputs": [],
   "source": [
    "ind = np.where(para[:,1]>6)[0]\n",
    "plt.clf()\n",
    "plt.plot(para[ind, 1], para[ind, 2])\n",
    "parameters, cov_matrix = curve_fit(gauss, mid_bin, stat)\n",
    "plt.plot(parameters[1], parameters[2], 'r.')\n",
    "plt.title('Parameter searching for 6K steps')\n",
    "plt.draw()\n",
    "plt.savefig('plot/mnist/kcd_para.pdf')"
   ]
  },
  {
   "cell_type": "code",
   "execution_count": 27,
   "metadata": {
    "collapsed": false
   },
   "outputs": [],
   "source": [
    "init_v = Data_v[0]\n",
    "para = []\n",
    "for step in range(1, 100, 10):\n",
    "    fname = '/home/liuq/apt/2ndYear/sDBN/theta/5420_b0001_epoc%05d_cd.npy'%(step)\n",
    "    a, b, w = np.load(fname)\n",
    "    dis = []\n",
    "    s_num = pow(10, 4)\n",
    "    data_g, tmp= avg_distr(a, b, w, s_num, init_v)\n",
    "    for i in range(s_num):\n",
    "        dis.append(np.linalg.norm(data_g[i]-k_center[0]))\n",
    "    his_g = np.histogram(dis) #, bins=[0, 1, 2, 3]\n",
    "    mid_g = 0.5*(his_g[1][1:] + his_g[1][:-1])\n",
    "    stat_g = his_g[0]*1./sum(his_g[0])\n",
    "    #parameters, cov_matrix = curve_fit(gauss, mid_g, stat_g)\n",
    "    #para.append(parameters)\n",
    "    para.append([0., np.mean(dis), np.var(dis)])\n",
    "    plt.clf()\n",
    "    plt.bar(his_g[1][:-1], stat_g, width=np.average(his_g[1][1:] - his_g[1][:-1]))\n",
    "    plt.xlabel('Distance to the cluster centre')\n",
    "    plt.ylabel('Probability')\n",
    "    plt.xlim((6,12))\n",
    "    plt.ylim((0,0.3))\n",
    "    plt.draw()\n",
    "    plt.savefig('plot/mnist/cd1_%d.pdf'%step)\n",
    "    #plt.show()\n",
    "para = np.array(para)"
   ]
  },
  {
   "cell_type": "code",
   "execution_count": 28,
   "metadata": {
    "collapsed": true
   },
   "outputs": [],
   "source": [
    "ind = np.where(para[:,1]>6)[0]\n",
    "plt.clf()\n",
    "plt.plot(para[ind, 1], para[ind, 2])\n",
    "parameters, cov_matrix = curve_fit(gauss, mid_bin, stat)\n",
    "plt.plot(parameters[1], parameters[2], 'r.')\n",
    "plt.title('Parameter searching for 540K steps')\n",
    "plt.draw()\n",
    "plt.savefig('plot/mnist/cd1_para.pdf')"
   ]
  },
  {
   "cell_type": "code",
   "execution_count": null,
   "metadata": {
    "collapsed": true
   },
   "outputs": [],
   "source": [
    "init_v = Data_v[0]\n",
    "para = []\n",
    "for step in range(1084, 18971, 542):\n",
    "    fname = '/home/liuq/apt/2ndYear/sDBN/theta/5420_b1000_epoc%05d_cd.npy'%(step)\n",
    "    a, b, w = np.load(fname)\n",
    "    dis = []\n",
    "    s_num = pow(10, 4)\n",
    "    data_g, tmp= avg_distr(a, b, w, s_num, init_v)\n",
    "    for i in range(s_num):\n",
    "        dis.append(np.linalg.norm(data_g[i]-k_center[0]))\n",
    "    his_g = np.histogram(dis) #, bins=[0, 1, 2, 3]\n",
    "    mid_g = 0.5*(his_g[1][1:] + his_g[1][:-1])\n",
    "    stat_g = his_g[0]*1./sum(his_g[0])\n",
    "    #parameters, cov_matrix = curve_fit(gauss, mid_g, stat_g)\n",
    "    #para.append(parameters)\n",
    "    para.append([0., np.mean(dis), np.var(dis)])\n",
    "    plt.clf()\n",
    "    plt.bar(his_g[1][:-1], stat_g, width=np.average(his_g[1][1:] - his_g[1][:-1]))\n",
    "    plt.xlabel('Distance to the cluster centre')\n",
    "    plt.ylabel('Probability')\n",
    "    plt.xlim((6,12))\n",
    "    plt.ylim((0,0.3))\n",
    "    plt.draw()\n",
    "    plt.savefig('plot/mnist/kcd_%d.pdf'%step)\n",
    "    #plt.show()\n",
    "para = np.array(para)"
   ]
  },
  {
   "cell_type": "code",
   "execution_count": null,
   "metadata": {
    "collapsed": true
   },
   "outputs": [],
   "source": [
    "ind = np.where(para[:,1]>6)[0]\n",
    "plt.clf()\n",
    "plt.plot(para[ind, 1], para[ind, 2])\n",
    "parameters, cov_matrix = curve_fit(gauss, mid_bin, stat)\n",
    "plt.plot(parameters[1], parameters[2], 'r.')\n",
    "plt.title('Parameter searching for 100K steps')\n",
    "plt.draw()\n",
    "plt.savefig('plot/mnist/cd1_para.pdf')"
   ]
  }
 ],
 "metadata": {
  "kernelspec": {
   "display_name": "Python 2",
   "language": "python",
   "name": "python2"
  },
  "language_info": {
   "codemirror_mode": {
    "name": "ipython",
    "version": 2
   },
   "file_extension": ".py",
   "mimetype": "text/x-python",
   "name": "python",
   "nbconvert_exporter": "python",
   "pygments_lexer": "ipython2",
   "version": "2.7.6"
  }
 },
 "nbformat": 4,
 "nbformat_minor": 0
}
