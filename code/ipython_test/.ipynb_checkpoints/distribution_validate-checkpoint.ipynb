{
 "cells": [
  {
   "cell_type": "code",
   "execution_count": 38,
   "metadata": {
    "collapsed": true
   },
   "outputs": [],
   "source": [
    "#%matplotlib inline\n",
    "import numpy as np\n",
    "import matplotlib.pyplot as plt\n",
    "import poisson_tools as pt\n",
    "import matplotlib.patches as mpatches\n",
    "from scipy.special import expit\n",
    "import scipy.cluster.vq as spvq\n",
    "import scipy.spatial.distance as spdt\n",
    "import matplotlib.cm as cm"
   ]
  },
  {
   "cell_type": "code",
   "execution_count": 29,
   "metadata": {
    "collapsed": true
   },
   "outputs": [],
   "source": [
    "def sigmoid_sampling(data, weight, bias):\n",
    "    sum_data = np.dot(data, weight) + bias\n",
    "    prob = expit(sum_data)\n",
    "    rdm = np.random.random(prob.shape)\n",
    "    index_on = rdm < prob\n",
    "    samples = np.zeros(prob.shape)\n",
    "    samples[index_on]=1.\n",
    "    return samples"
   ]
  },
  {
   "cell_type": "code",
   "execution_count": 46,
   "metadata": {
    "collapsed": true
   },
   "outputs": [],
   "source": [
    "def avg_distr(a, b, w, sample_num, init_v):\n",
    "    gibbs_v = np.zeros((sample_num, a.shape[0]))\n",
    "    gibbs_v[0] = init_v\n",
    "    for g_step in range(1, sample_num):\n",
    "        gibbs_h = sigmoid_sampling(gibbs_v[g_step-1], w, b)\n",
    "        gibbs_v[g_step] = sigmoid_sampling(gibbs_h, w.transpose(), a)\n",
    "    return gibbs_v, np.average(gibbs_v,0)"
   ]
  },
  {
   "cell_type": "code",
   "execution_count": 31,
   "metadata": {
    "collapsed": true
   },
   "outputs": [],
   "source": [
    "def plot_distance(sample_nums, dis_matrix, clabel, **kwargs):\n",
    "    ax = kwargs.pop('ax', plt.gca())\n",
    "    mmax = np.max(dis_matrix,0)\n",
    "    mmin = np.min(dis_matrix,0)\n",
    "    avg = np.average(dis_matrix,0)\n",
    "    base_line, = ax.semilogx(sample_nums, avg, linewidth = 2., label = clabel, **kwargs)\n",
    "    ax.fill_between(sample_nums, mmax, mmin, facecolor=base_line.get_color(), alpha=.4, linewidth=0)\n",
    "    legend = ax.legend(loc='lower left', shadow=True)"
   ]
  },
  {
   "cell_type": "code",
   "execution_count": 34,
   "metadata": {
    "collapsed": false
   },
   "outputs": [],
   "source": [
    "train_x, train_y = pt.get_train_data()\n",
    "train_x = train_x > 50\n",
    "\n",
    "digit = 5\n",
    "label_list = np.array(train_y).astype(int)\n",
    "index_digit = np.where(label_list==digit)[0]\n",
    "train_num = len(index_digit) - 1\n",
    "index_train = index_digit[0:train_num]\n",
    "Data_v = np.array(train_x[index_train]).astype(float)\n",
    "#dis_D = np.average(Data_v,0)\n",
    "k_center = spvq.kmeans(Data_v, 1)"
   ]
  },
  {
   "cell_type": "code",
   "execution_count": 40,
   "metadata": {
    "collapsed": false
   },
   "outputs": [],
   "source": [
    "plt.imshow(np.reshape(k_center[0],(28,28)), cmap=cm.gray_r,interpolation='none')\n",
    "plt.show()"
   ]
  },
  {
   "cell_type": "code",
   "execution_count": 57,
   "metadata": {
    "collapsed": false
   },
   "outputs": [],
   "source": [
    "fname = '/home/liuq/apt/2ndYear/sDBN/theta/5420_b1000_epoc11924_cd.npy' #903\n",
    "a_K, b_K, w_K = np.load(fname)\n",
    "fname = '/home/liuq/apt/2ndYear/sDBN/theta/5420_b0001_epoc00013_cd.npy' #001\n",
    "a_1, b_1, w_1 = np.load(fname)\n",
    "#fname = '/home/liuq/apt/2ndYear/sDBN/theta/5420_b0002_epoc00002_cd.npy'\n",
    "fname = '/home/liuq/apt/2ndYear/sDBN/theta/5420_b1000_epoc00001_cd.npy' #903\n",
    "a_2, b_2, w_2 = np.load(fname)\n",
    "init_v = Data_v[0]"
   ]
  },
  {
   "cell_type": "code",
   "execution_count": 43,
   "metadata": {
    "collapsed": false
   },
   "outputs": [
    {
     "name": "stdout",
     "output_type": "stream",
     "text": [
      "8.30321544205 0.724197642319\n"
     ]
    }
   ],
   "source": [
    "dis_D=[]\n",
    "for i in range(len(Data_v)):\n",
    "     dis_D.append(np.linalg.norm(Data_v[i]-k_center[0]))\n",
    "print np.mean(dis_D), np.var(dis_D)"
   ]
  },
  {
   "cell_type": "code",
   "execution_count": 61,
   "metadata": {
    "collapsed": false
   },
   "outputs": [
    {
     "name": "stdout",
     "output_type": "stream",
     "text": [
      "/home/liuq/apt/2ndYear/sDBN/theta/5420_b1000_epoc00001_cd.npy\n"
     ]
    }
   ],
   "source": [
    "i = 1\n",
    "fname = '/home/liuq/apt/2ndYear/sDBN/theta/5420_b1000_epoc%05d_cd.npy'%(i)\n",
    "print fname"
   ]
  },
  {
   "cell_type": "code",
   "execution_count": 58,
   "metadata": {
    "collapsed": false
   },
   "outputs": [
    {
     "name": "stdout",
     "output_type": "stream",
     "text": [
      "8.35689543717 0.0479904583446\n"
     ]
    }
   ],
   "source": [
    "s_num = 10\n",
    "mean_list = []\n",
    "var_list = []\n",
    "#data_g, distr_1 = avg_distr(a_1, b_1, w_1, s_num, init_v)\n",
    "#dis_D=[]\n",
    "#for i in range(s_num):\n",
    "#     dis_D.append(np.linalg.norm(data_g[i]-k_center[0]))\n",
    "#print np.mean(dis_D), np.var(dis_D)\n",
    "for i in range(0, 1001, 1000):\n",
    "    data_g, distr_2 = avg_distr(a_2, b_2, w_2, s_num, init_v)\n",
    "    dis_D=[]\n",
    "    for i in range(s_num):\n",
    "         dis_D.append(np.linalg.norm(data_g[i]-k_center[0]))\n",
    "    mean_list.append(np.mean(dis_D))\n",
    "    var_list.append(np.var(dis_D))\n",
    "\n",
    "#data_g, distr_K = avg_distr(a_K, b_K, w_K, s_num, init_v)\n",
    "#dis_D=[]\n",
    "#for i in range(s_num):\n",
    "#     dis_D.append(np.linalg.norm(data_g[i]-k_center[0]))\n",
    "#print np.mean(dis_D), np.var(dis_D)"
   ]
  },
  {
   "cell_type": "code",
   "execution_count": 24,
   "metadata": {
    "collapsed": true
   },
   "outputs": [],
   "source": [
    "trail_num = 5\n",
    "test_per_trail = 10\n",
    "sample_nums = np.array([])\n",
    "dis_matrix1 = np.zeros((test_per_trail, trail_num))\n",
    "dis_matrix2 = np.zeros((test_per_trail, trail_num))\n",
    "dis_matrixK = np.zeros((test_per_trail, trail_num))\n",
    "np.random.seed(0)"
   ]
  },
  {
   "cell_type": "code",
   "execution_count": 25,
   "metadata": {
    "collapsed": false
   },
   "outputs": [
    {
     "name": "stdout",
     "output_type": "stream",
     "text": [
      "0\n",
      "1\n",
      "2\n",
      "3\n",
      "4\n"
     ]
    }
   ],
   "source": [
    "for i in range(trail_num):\n",
    "    print i\n",
    "    s_num = pow(10, i+1)\n",
    "    sample_nums = np.append(sample_nums, [s_num])\n",
    "    for j in range(test_per_trail):\n",
    "        distr_1 = avg_distr(a_1, b_1, w_1, s_num, init_v)\n",
    "        distr_2 = avg_distr(a_2, b_2, w_2, s_num, init_v)\n",
    "        distr_K = avg_distr(a_K, b_K, w_K, s_num, init_v)\n",
    "        #dis_matrix1[j, i] = np.sum(np.abs(dis_D-distr_1))\n",
    "        #dis_matrix2[j, i] = np.sum(np.abs(dis_D-distr_2))\n",
    "        #dis_matrixK[j, i] = np.sum(np.abs(dis_D-distr_K))\n",
    "        dis_matrix1[j, i] = np.linalg.norm(dis_D-distr_1)\n",
    "        dis_matrix2[j, i] = np.linalg.norm(dis_D-distr_2)\n",
    "        dis_matrixK[j, i] = np.linalg.norm(dis_D-distr_K)"
   ]
  },
  {
   "cell_type": "code",
   "execution_count": 27,
   "metadata": {
    "collapsed": false
   },
   "outputs": [],
   "source": [
    "plt.clf()\n",
    "plot_distance(sample_nums, dis_matrix1, 'CD_1')\n",
    "#plot_distance(sample_nums, dis_matrix2, 'CD_2')\n",
    "plot_distance(sample_nums, dis_matrixK, 'CD_1K')\n",
    "plt.xlabel('Sampling Number')\n",
    "plt.ylabel('Euclidean Distance')\n",
    "plt.title('Euclidean Distance Between Mean of Samples and Training Set')\n",
    "plt.grid('on')\n",
    "plt.savefig('distr.pdf')\n",
    "plt.show()"
   ]
  },
  {
   "cell_type": "code",
   "execution_count": null,
   "metadata": {
    "collapsed": true
   },
   "outputs": [],
   "source": []
  }
 ],
 "metadata": {
  "kernelspec": {
   "display_name": "Python 2",
   "language": "python",
   "name": "python2"
  },
  "language_info": {
   "codemirror_mode": {
    "name": "ipython",
    "version": 2
   },
   "file_extension": ".py",
   "mimetype": "text/x-python",
   "name": "python",
   "nbconvert_exporter": "python",
   "pygments_lexer": "ipython2",
   "version": "2.7.6"
  }
 },
 "nbformat": 4,
 "nbformat_minor": 0
}
