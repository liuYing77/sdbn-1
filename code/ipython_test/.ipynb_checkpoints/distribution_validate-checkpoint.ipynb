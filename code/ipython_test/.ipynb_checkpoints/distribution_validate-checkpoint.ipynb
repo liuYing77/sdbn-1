{
 "cells": [
  {
   "cell_type": "code",
   "execution_count": 31,
   "metadata": {
    "collapsed": false
   },
   "outputs": [],
   "source": [
    "#%matplotlib inline\n",
    "import numpy as np\n",
    "import matplotlib.pyplot as plt\n",
    "import poisson_tools as pt\n",
    "import matplotlib.patches as mpatches\n",
    "from scipy.special import expit\n",
    "import scipy.cluster.vq as spvq\n",
    "import scipy.spatial.distance as spdt\n",
    "import matplotlib.cm as cm\n",
    "from scipy.optimize import curve_fit\n",
    "import statsmodels.api as sm\n",
    "#from scipy.stats import poisson\n",
    "from scipy.misc import factorial"
   ]
  },
  {
   "cell_type": "code",
   "execution_count": 3,
   "metadata": {
    "collapsed": true
   },
   "outputs": [],
   "source": [
    "def sigmoid_sampling(data, weight, bias):\n",
    "    sum_data = np.dot(data, weight) + bias\n",
    "    prob = expit(sum_data)\n",
    "    rdm = np.random.random(prob.shape)\n",
    "    index_on = rdm < prob\n",
    "    samples = np.zeros(prob.shape)\n",
    "    samples[index_on]=1.\n",
    "    return samples"
   ]
  },
  {
   "cell_type": "code",
   "execution_count": 4,
   "metadata": {
    "collapsed": true
   },
   "outputs": [],
   "source": [
    "def avg_distr(a, b, w, sample_num, init_v):\n",
    "    gibbs_v = np.zeros((sample_num, a.shape[0]))\n",
    "    gibbs_v[0] = init_v\n",
    "    for g_step in range(1, sample_num):\n",
    "        gibbs_h = sigmoid_sampling(gibbs_v[g_step-1], w, b)\n",
    "        gibbs_v[g_step] = sigmoid_sampling(gibbs_h, w.transpose(), a)\n",
    "    return gibbs_v, np.average(gibbs_v,0)"
   ]
  },
  {
   "cell_type": "code",
   "execution_count": 5,
   "metadata": {
    "collapsed": true
   },
   "outputs": [],
   "source": [
    "def plot_distance(sample_nums, dis_matrix, clabel, **kwargs):\n",
    "    ax = kwargs.pop('ax', plt.gca())\n",
    "    mmax = np.max(dis_matrix,0)\n",
    "    mmin = np.min(dis_matrix,0)\n",
    "    avg = np.average(dis_matrix,0)\n",
    "    base_line, = ax.semilogx(sample_nums, avg, linewidth = 2., label = clabel, **kwargs)\n",
    "    ax.fill_between(sample_nums, mmax, mmin, facecolor=base_line.get_color(), alpha=.4, linewidth=0)\n",
    "    legend = ax.legend(loc='lower left', shadow=True)"
   ]
  },
  {
   "cell_type": "code",
   "execution_count": 6,
   "metadata": {
    "collapsed": false
   },
   "outputs": [],
   "source": [
    "train_x, train_y = pt.get_train_data()\n",
    "train_x = train_x > 50\n",
    "\n",
    "digit = 5\n",
    "label_list = np.array(train_y).astype(int)\n",
    "index_digit = np.where(label_list==digit)[0]\n",
    "train_num = len(index_digit) - 1\n",
    "index_train = index_digit[0:train_num]\n",
    "Data_v = np.array(train_x[index_train]).astype(float)\n",
    "k_center = spvq.kmeans(Data_v, 1)"
   ]
  },
  {
   "cell_type": "code",
   "execution_count": 35,
   "metadata": {
    "collapsed": false
   },
   "outputs": [],
   "source": [
    "#plt.imshow(np.reshape(k_center[0],(28,28)), cmap=cm.gray_r,interpolation='none')\n",
    "#plt.show()\n",
    "dis_D=[]\n",
    "for i in range(len(Data_v)):\n",
    "    dis_D.append(np.linalg.norm(Data_v[i]-k_center[0]))\n",
    "his = np.histogram(dis_D) #, bins=[0, 1, 2, 3]\n",
    "mid_bin = 0.5*(his[1][1:] + his[1][:-1])\n",
    "plt.plot(mid_bin, his[0])\n",
    "plt.show()"
   ]
  },
  {
   "cell_type": "code",
   "execution_count": 36,
   "metadata": {
    "collapsed": true
   },
   "outputs": [],
   "source": [
    "plt.plot(dis_D, '.')\n",
    "plt.show()"
   ]
  },
  {
   "cell_type": "code",
   "execution_count": 10,
   "metadata": {
    "collapsed": false
   },
   "outputs": [
    {
     "name": "stdout",
     "output_type": "stream",
     "text": [
      "Optimization terminated successfully.\n",
      "         Current function value: 2.027519\n",
      "         Iterations 11\n",
      "                          Poisson Regression Results                          \n",
      "==============================================================================\n",
      "Dep. Variable:                      y   No. Observations:                 5420\n",
      "Model:                        Poisson   Df Residuals:                     5419\n",
      "Method:                           MLE   Df Model:                            0\n",
      "Date:                Tue, 17 Nov 2015   Pseudo R-squ.:                   0.000\n",
      "Time:                        18:34:01   Log-Likelihood:                -10989.\n",
      "converged:                       True   LL-Null:                       -10989.\n",
      "                                        LLR p-value:                       nan\n",
      "==============================================================================\n",
      "                 coef    std err          z      P>|z|      [95.0% Conf. Int.]\n",
      "------------------------------------------------------------------------------\n",
      "const          2.1166      0.005    449.025      0.000         2.107     2.126\n",
      "==============================================================================\n"
     ]
    }
   ],
   "source": [
    "#popt, pcov = curve_fit(poisson, his[0], his[1][0:-1])\n",
    "res = sm.Poisson(dis_D,np.ones_like(dis_D)).fit()\n",
    "print res.summary()"
   ]
  },
  {
   "cell_type": "code",
   "execution_count": 50,
   "metadata": {
    "collapsed": false
   },
   "outputs": [],
   "source": [
    "ld= np.exp(2.1166)\n",
    "normal = his[0]#*1./sum(his[0])\n",
    "# poisson function, parameter lamb is the fit parameter\n",
    "def poisson(k, lamb):\n",
    "    return (lamb**k/factorial(k)) * np.exp(-lamb)\n",
    "def gauss(x, A, mu, sigma):\n",
    "    #A, mu, sigma = p\n",
    "    return A*np.exp(-(x-mu)**2/(2.*sigma**2))\n",
    "# fit with curve_fit\n",
    "parameters, cov_matrix = curve_fit(gauss, mid_bin, normal) \n",
    "#popt, pcov = curve_fit(poisson.pmf(his[0], ld), his[0], his[1][0:-1])\n",
    "\n",
    "# plot poisson-deviation with fitted parameter\n",
    "x_plot = np.linspace(0, 20, 1000)\n",
    "plt.plot(mid_bin, normal)\n",
    "#plt.plot(mid_bin, poisson(mid_bin, np.exp(2.1166)))\n",
    "plt.plot(x_plot, gauss(x_plot, *parameters), 'r-', lw=2)\n",
    "plt.show()"
   ]
  },
  {
   "cell_type": "code",
   "execution_count": 49,
   "metadata": {
    "collapsed": false
   },
   "outputs": [
    {
     "data": {
      "text/plain": [
       "array([  1.12020314e+09,   5.22004121e+08])"
      ]
     },
     "execution_count": 49,
     "metadata": {},
     "output_type": "execute_result"
    }
   ],
   "source": [
    "parameters"
   ]
  },
  {
   "cell_type": "code",
   "execution_count": 11,
   "metadata": {
    "collapsed": false
   },
   "outputs": [],
   "source": [
    "fname = '/home/liuq/apt/2ndYear/sDBN/theta/5420_b1000_epoc11924_cd.npy' #903\n",
    "a_K, b_K, w_K = np.load(fname)\n",
    "fname = '/home/liuq/apt/2ndYear/sDBN/theta/5420_b0001_epoc00013_cd.npy' #001\n",
    "a_1, b_1, w_1 = np.load(fname)\n",
    "#fname = '/home/liuq/apt/2ndYear/sDBN/theta/5420_b0002_epoc00002_cd.npy'\n",
    "fname = '/home/liuq/apt/2ndYear/sDBN/theta/5420_b1000_epoc00001_cd.npy' #903\n",
    "a_2, b_2, w_2 = np.load(fname)\n",
    "init_v = Data_v[0]"
   ]
  },
  {
   "cell_type": "code",
   "execution_count": 43,
   "metadata": {
    "collapsed": false
   },
   "outputs": [
    {
     "name": "stdout",
     "output_type": "stream",
     "text": [
      "8.30321544205 0.724197642319\n"
     ]
    }
   ],
   "source": [
    "dis_D=[]\n",
    "for i in range(len(Data_v)):\n",
    "     dis_D.append(np.linalg.norm(Data_v[i]-k_center[0]))\n",
    "print np.mean(dis_D), np.var(dis_D)"
   ]
  },
  {
   "cell_type": "code",
   "execution_count": 46,
   "metadata": {
    "collapsed": false
   },
   "outputs": [
    {
     "ename": "IndexError",
     "evalue": "index 10000 is out of bounds for axis 0 with size 10000",
     "output_type": "error",
     "traceback": [
      "\u001b[1;31m---------------------------------------------------------------------------\u001b[0m",
      "\u001b[1;31mIndexError\u001b[0m                                Traceback (most recent call last)",
      "\u001b[1;32m<ipython-input-46-9115afd03a2a>\u001b[0m in \u001b[0;36m<module>\u001b[1;34m()\u001b[0m\n\u001b[0;32m      6\u001b[0m     \u001b[0ms_num\u001b[0m \u001b[1;33m=\u001b[0m \u001b[0mpow\u001b[0m\u001b[1;33m(\u001b[0m\u001b[1;36m10\u001b[0m\u001b[1;33m,\u001b[0m \u001b[0mi\u001b[0m\u001b[1;33m+\u001b[0m\u001b[1;36m1\u001b[0m\u001b[1;33m)\u001b[0m\u001b[1;33m\u001b[0m\u001b[0m\n\u001b[0;32m      7\u001b[0m     \u001b[0mdis\u001b[0m\u001b[1;33m[\u001b[0m\u001b[0mstr\u001b[0m\u001b[1;33m(\u001b[0m\u001b[0ms_num\u001b[0m\u001b[1;33m)\u001b[0m\u001b[1;33m]\u001b[0m \u001b[1;33m=\u001b[0m \u001b[1;33m[\u001b[0m\u001b[1;33m]\u001b[0m\u001b[1;33m\u001b[0m\u001b[0m\n\u001b[1;32m----> 8\u001b[1;33m     \u001b[0mdata_g\u001b[0m\u001b[1;33m,\u001b[0m \u001b[0mdata_h\u001b[0m\u001b[1;33m=\u001b[0m \u001b[0msampling_k\u001b[0m\u001b[1;33m(\u001b[0m\u001b[0ma\u001b[0m\u001b[1;33m,\u001b[0m \u001b[0mb\u001b[0m\u001b[1;33m,\u001b[0m \u001b[0mw\u001b[0m\u001b[1;33m,\u001b[0m \u001b[0ms_num\u001b[0m\u001b[1;33m,\u001b[0m \u001b[0minit_v\u001b[0m\u001b[1;33m)\u001b[0m\u001b[1;33m\u001b[0m\u001b[0m\n\u001b[0m\u001b[0;32m      9\u001b[0m     \u001b[1;32mfor\u001b[0m \u001b[0mi\u001b[0m \u001b[1;32min\u001b[0m \u001b[0mrange\u001b[0m\u001b[1;33m(\u001b[0m\u001b[0ms_num\u001b[0m\u001b[1;33m)\u001b[0m\u001b[1;33m:\u001b[0m\u001b[1;33m\u001b[0m\u001b[0m\n\u001b[0;32m     10\u001b[0m         \u001b[0mdis\u001b[0m\u001b[1;33m[\u001b[0m\u001b[0mstr\u001b[0m\u001b[1;33m(\u001b[0m\u001b[0ms_num\u001b[0m\u001b[1;33m)\u001b[0m\u001b[1;33m]\u001b[0m\u001b[1;33m.\u001b[0m\u001b[0mappend\u001b[0m\u001b[1;33m(\u001b[0m\u001b[0mnp\u001b[0m\u001b[1;33m.\u001b[0m\u001b[0mlinalg\u001b[0m\u001b[1;33m.\u001b[0m\u001b[0mnorm\u001b[0m\u001b[1;33m(\u001b[0m\u001b[0mdata_g\u001b[0m\u001b[1;33m[\u001b[0m\u001b[0mi\u001b[0m\u001b[1;33m]\u001b[0m\u001b[1;33m-\u001b[0m\u001b[0mk_center\u001b[0m\u001b[1;33m[\u001b[0m\u001b[1;36m0\u001b[0m\u001b[1;33m]\u001b[0m\u001b[1;33m)\u001b[0m\u001b[1;33m)\u001b[0m\u001b[1;33m\u001b[0m\u001b[0m\n",
      "\u001b[1;32m<ipython-input-45-3b4c5619744c>\u001b[0m in \u001b[0;36msampling_k\u001b[1;34m(a, b, w, sample_num, init_v)\u001b[0m\n\u001b[0;32m      6\u001b[0m         \u001b[0mgibbs_h\u001b[0m\u001b[1;33m[\u001b[0m\u001b[0mg_step\u001b[0m\u001b[1;33m-\u001b[0m\u001b[1;36m1\u001b[0m\u001b[1;33m]\u001b[0m \u001b[1;33m=\u001b[0m \u001b[0msigmoid_sampling\u001b[0m\u001b[1;33m(\u001b[0m\u001b[0mgibbs_v\u001b[0m\u001b[1;33m[\u001b[0m\u001b[0mg_step\u001b[0m\u001b[1;33m-\u001b[0m\u001b[1;36m1\u001b[0m\u001b[1;33m]\u001b[0m\u001b[1;33m,\u001b[0m \u001b[0mw\u001b[0m\u001b[1;33m,\u001b[0m \u001b[0mb\u001b[0m\u001b[1;33m)\u001b[0m\u001b[1;33m\u001b[0m\u001b[0m\n\u001b[0;32m      7\u001b[0m         \u001b[0mgibbs_v\u001b[0m\u001b[1;33m[\u001b[0m\u001b[0mg_step\u001b[0m\u001b[1;33m]\u001b[0m \u001b[1;33m=\u001b[0m \u001b[0msigmoid_sampling\u001b[0m\u001b[1;33m(\u001b[0m\u001b[0mgibbs_h\u001b[0m\u001b[1;33m[\u001b[0m\u001b[0mg_step\u001b[0m\u001b[1;33m-\u001b[0m\u001b[1;36m1\u001b[0m\u001b[1;33m]\u001b[0m\u001b[1;33m,\u001b[0m \u001b[0mw\u001b[0m\u001b[1;33m.\u001b[0m\u001b[0mtranspose\u001b[0m\u001b[1;33m(\u001b[0m\u001b[1;33m)\u001b[0m\u001b[1;33m,\u001b[0m \u001b[0ma\u001b[0m\u001b[1;33m)\u001b[0m\u001b[1;33m\u001b[0m\u001b[0m\n\u001b[1;32m----> 8\u001b[1;33m     \u001b[0mgibbs_h\u001b[0m\u001b[1;33m[\u001b[0m\u001b[0msample_num\u001b[0m\u001b[1;33m]\u001b[0m \u001b[1;33m=\u001b[0m \u001b[0msigmoid_sampling\u001b[0m\u001b[1;33m(\u001b[0m\u001b[0mgibbs_h\u001b[0m\u001b[1;33m[\u001b[0m\u001b[0msample_num\u001b[0m\u001b[1;33m-\u001b[0m\u001b[1;36m1\u001b[0m\u001b[1;33m]\u001b[0m\u001b[1;33m,\u001b[0m \u001b[0mw\u001b[0m\u001b[1;33m.\u001b[0m\u001b[0mtranspose\u001b[0m\u001b[1;33m(\u001b[0m\u001b[1;33m)\u001b[0m\u001b[1;33m,\u001b[0m \u001b[0ma\u001b[0m\u001b[1;33m)\u001b[0m\u001b[1;33m\u001b[0m\u001b[0m\n\u001b[0m\u001b[0;32m      9\u001b[0m     \u001b[1;32mreturn\u001b[0m \u001b[0mgibbs_v\u001b[0m\u001b[1;33m,\u001b[0m \u001b[0mgibbs_h\u001b[0m\u001b[1;33m\u001b[0m\u001b[0m\n",
      "\u001b[1;31mIndexError\u001b[0m: index 10000 is out of bounds for axis 0 with size 10000"
     ]
    }
   ],
   "source": [
    "dis = {}\n",
    "for step in range(11924, 542-1, -542):\n",
    "    fname = '/home/liuq/apt/2ndYear/sDBN/theta/5420_b1000_epoc%05d_cd.npy'%(step)\n",
    "    a, b, w = np.load(fname)\n",
    "    i = 3\n",
    "    s_num = pow(10, i+1)\n",
    "    dis[str(s_num)] = []\n",
    "    data_g, tmp= avg_distr(a, b, w, s_num, init_v)\n",
    "    for i in range(s_num):\n",
    "        dis[str(s_num)].append(np.linalg.norm(data_g[i]-k_center[0]))\n",
    "    his = np.histogram(dis[str(s_num)]) #, bins=[0, 1, 2, 3]\n",
    "    plt.plot(his[1][0:-1], his[0])\n",
    "    plt.show()"
   ]
  },
  {
   "cell_type": "code",
   "execution_count": 66,
   "metadata": {
    "collapsed": false
   },
   "outputs": [
    {
     "name": "stdout",
     "output_type": "stream",
     "text": [
      "4\n"
     ]
    }
   ],
   "source": [
    "step = 1084\n",
    "fname = '/home/liuq/apt/2ndYear/sDBN/theta/5420_b1000_epoc%05d_cd.npy'%(step)\n",
    "#fname = '/home/liuq/apt/2ndYear/sDBN/theta/5420_b0001_epoc00021_cd.npy' #001\n",
    "a, b, w = np.load(fname)\n",
    "for pow_num in range(3, 4):\n",
    "    print pow_num\n",
    "    dis = []\n",
    "    s_num = 1 * pow(10, pow_num+1)\n",
    "    data_g, tmp= avg_distr(a, b, w, s_num, init_v)\n",
    "    for i in range(s_num):\n",
    "        dis.append(np.linalg.norm(data_g[i]-k_center[0]))\n",
    "    his = np.histogram(dis) #, bins=[0, 1, 2, 3]\n",
    "    plt.plot(his[1][0:-1], his[0])\n",
    "    plt.show()"
   ]
  },
  {
   "cell_type": "code",
   "execution_count": 68,
   "metadata": {
    "collapsed": false
   },
   "outputs": [],
   "source": [
    "s_num = 10000\n",
    "mean_list = []\n",
    "var_list = []\n",
    "#data_g, distr_1 = avg_distr(a_1, b_1, w_1, s_num, init_v)\n",
    "#dis_D=[]\n",
    "#for i in range(s_num):\n",
    "#     dis_D.append(np.linalg.norm(data_g[i]-k_center[0]))\n",
    "#print np.mean(dis_D), np.var(dis_D)\n",
    "for i in range(0, 1001, 100):\n",
    "    data_g, distr_2 = avg_distr(a_2, b_2, w_2, s_num, init_v)\n",
    "    dis_D=[]\n",
    "    for i in range(s_num):\n",
    "         dis_D.append(np.linalg.norm(data_g[i]-k_center[0]))\n",
    "    mean_list.append(np.mean(dis_D))\n",
    "    var_list.append(np.var(dis_D))\n",
    "for i in range(1084, 11925, 542):\n",
    "    data_g, distr_2 = avg_distr(a_2, b_2, w_2, s_num, init_v)\n",
    "    dis_D=[]\n",
    "    for i in range(s_num):\n",
    "         dis_D.append(np.linalg.norm(data_g[i]-k_center[0]))\n",
    "    mean_list.append(np.mean(dis_D))\n",
    "    var_list.append(np.var(dis_D))\n",
    "\n",
    "plt.plot(mean_list)\n",
    "plt.savefig('mean.pdf')\n",
    "plt.clf()\n",
    "plt.plot(var_list)\n",
    "plt.savefig('var.pdf')\n",
    "#data_g, distr_K = avg_distr(a_K, b_K, w_K, s_num, init_v)\n",
    "#dis_D=[]\n",
    "#for i in range(s_num):\n",
    "#     dis_D.append(np.linalg.norm(data_g[i]-k_center[0]))\n",
    "#print np.mean(dis_D), np.var(dis_D)"
   ]
  },
  {
   "cell_type": "code",
   "execution_count": 24,
   "metadata": {
    "collapsed": true
   },
   "outputs": [],
   "source": [
    "trail_num = 5\n",
    "test_per_trail = 10\n",
    "sample_nums = np.array([])\n",
    "dis_matrix1 = np.zeros((test_per_trail, trail_num))\n",
    "dis_matrix2 = np.zeros((test_per_trail, trail_num))\n",
    "dis_matrixK = np.zeros((test_per_trail, trail_num))\n",
    "np.random.seed(0)"
   ]
  },
  {
   "cell_type": "code",
   "execution_count": 25,
   "metadata": {
    "collapsed": false
   },
   "outputs": [
    {
     "name": "stdout",
     "output_type": "stream",
     "text": [
      "0\n",
      "1\n",
      "2\n",
      "3\n",
      "4\n"
     ]
    }
   ],
   "source": [
    "for i in range(trail_num):\n",
    "    print i\n",
    "    s_num = pow(10, i+1)\n",
    "    sample_nums = np.append(sample_nums, [s_num])\n",
    "    for j in range(test_per_trail):\n",
    "        distr_1 = avg_distr(a_1, b_1, w_1, s_num, init_v)\n",
    "        distr_2 = avg_distr(a_2, b_2, w_2, s_num, init_v)\n",
    "        distr_K = avg_distr(a_K, b_K, w_K, s_num, init_v)\n",
    "        #dis_matrix1[j, i] = np.sum(np.abs(dis_D-distr_1))\n",
    "        #dis_matrix2[j, i] = np.sum(np.abs(dis_D-distr_2))\n",
    "        #dis_matrixK[j, i] = np.sum(np.abs(dis_D-distr_K))\n",
    "        dis_matrix1[j, i] = np.linalg.norm(dis_D-distr_1)\n",
    "        dis_matrix2[j, i] = np.linalg.norm(dis_D-distr_2)\n",
    "        dis_matrixK[j, i] = np.linalg.norm(dis_D-distr_K)"
   ]
  },
  {
   "cell_type": "code",
   "execution_count": 27,
   "metadata": {
    "collapsed": false
   },
   "outputs": [],
   "source": [
    "plt.clf()\n",
    "plot_distance(sample_nums, dis_matrix1, 'CD_1')\n",
    "#plot_distance(sample_nums, dis_matrix2, 'CD_2')\n",
    "plot_distance(sample_nums, dis_matrixK, 'CD_1K')\n",
    "plt.xlabel('Sampling Number')\n",
    "plt.ylabel('Euclidean Distance')\n",
    "plt.title('Euclidean Distance Between Mean of Samples and Training Set')\n",
    "plt.grid('on')\n",
    "plt.savefig('distr.pdf')\n",
    "plt.show()"
   ]
  },
  {
   "cell_type": "code",
   "execution_count": null,
   "metadata": {
    "collapsed": true
   },
   "outputs": [],
   "source": []
  }
 ],
 "metadata": {
  "kernelspec": {
   "display_name": "Python 2",
   "language": "python",
   "name": "python2"
  },
  "language_info": {
   "codemirror_mode": {
    "name": "ipython",
    "version": 2
   },
   "file_extension": ".py",
   "mimetype": "text/x-python",
   "name": "python",
   "nbconvert_exporter": "python",
   "pygments_lexer": "ipython2",
   "version": "2.7.6"
  }
 },
 "nbformat": 4,
 "nbformat_minor": 0
}
