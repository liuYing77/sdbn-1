{
 "cells": [
  {
   "cell_type": "code",
   "execution_count": 104,
   "metadata": {
    "collapsed": true
   },
   "outputs": [],
   "source": [
    "#%matplotlib inline\n",
    "import numpy as np\n",
    "import matplotlib.pyplot as plt\n",
    "import poisson_tools as pt\n",
    "import matplotlib.patches as mpatches\n",
    "from scipy.special import expit"
   ]
  },
  {
   "cell_type": "code",
   "execution_count": 5,
   "metadata": {
    "collapsed": true
   },
   "outputs": [],
   "source": [
    "def sigmoid_sampling(data, weight, bias):\n",
    "    sum_data = np.dot(data, weight) + bias\n",
    "    prob = expit(sum_data)\n",
    "    rdm = np.random.random(prob.shape)\n",
    "    index_on = rdm < prob\n",
    "    samples = np.zeros(prob.shape)\n",
    "    samples[index_on]=1.\n",
    "    return samples"
   ]
  },
  {
   "cell_type": "code",
   "execution_count": 9,
   "metadata": {
    "collapsed": true
   },
   "outputs": [],
   "source": [
    "def avg_distr(a, b, w, sample_num, init_v):\n",
    "    gibbs_v = np.zeros((sample_num, a.shape[0]))\n",
    "    gibbs_v[0] = init_v\n",
    "    for g_step in range(1, sample_num):\n",
    "        gibbs_h = sigmoid_sampling(gibbs_v[g_step-1], w, b)\n",
    "        gibbs_v[g_step] = sigmoid_sampling(gibbs_h, w.transpose(), a)\n",
    "    return np.average(gibbs_v,0)"
   ]
  },
  {
   "cell_type": "code",
   "execution_count": null,
   "metadata": {
    "collapsed": true
   },
   "outputs": [],
   "source": [
    "train_x, train_y = pt.get_train_data()\n",
    "train_x = train_x > 50\n",
    "\n",
    "digit = 5\n",
    "label_list = np.array(train_y).astype(int)\n",
    "index_digit = np.where(label_list==digit)[0]\n",
    "train_num = len(index_digit) - 1\n",
    "index_train = index_digit[0:train_num]\n",
    "Data_v = np.array(train_x[index_train]).astype(float)\n",
    "dis_D = np.average(Data_v,0)"
   ]
  },
  {
   "cell_type": "code",
   "execution_count": 37,
   "metadata": {
    "collapsed": false
   },
   "outputs": [],
   "source": [
    "fname = '/home/liuq/apt/2ndYear/sDBN/theta/5420_b1000_epoc0903_cd.npy'\n",
    "a_K, b_K, w_K = np.load(fname)\n",
    "fname = '/home/liuq/apt/2ndYear/sDBN/theta/5420_b0001_epoc0001_cd.npy'\n",
    "a_1, b_1, w_1 = np.load(fname)\n",
    "fname = '/home/liuq/apt/2ndYear/sDBN/theta/5420_b0002_epoc0002_cd.npy'\n",
    "a_2, b_2, w_2 = np.load(fname)\n",
    "init_v = Data_v[0]"
   ]
  },
  {
   "cell_type": "code",
   "execution_count": null,
   "metadata": {
    "collapsed": true
   },
   "outputs": [],
   "source": [
    "trail_num = 5\n",
    "test_per_trail = 10\n",
    "sample_nums = np.array([])\n",
    "dis_matrix1 = np.zeros((test_per_trail, trail_num))\n",
    "dis_matrix2 = np.zeros((test_per_trail, trail_num))\n",
    "dis_matrixK = np.zeros((test_per_trail, trail_num))\n",
    "np.random.seed(0)"
   ]
  },
  {
   "cell_type": "code",
   "execution_count": 67,
   "metadata": {
    "collapsed": false
   },
   "outputs": [
    {
     "ename": "MemoryError",
     "evalue": "",
     "output_type": "error",
     "traceback": [
      "\u001b[1;31m---------------------------------------------------------------------------\u001b[0m",
      "\u001b[1;31mMemoryError\u001b[0m                               Traceback (most recent call last)",
      "\u001b[1;32m<ipython-input-67-d014f3911310>\u001b[0m in \u001b[0;36m<module>\u001b[1;34m()\u001b[0m\n\u001b[0;32m     10\u001b[0m     \u001b[0msample_nums\u001b[0m \u001b[1;33m=\u001b[0m \u001b[0mnp\u001b[0m\u001b[1;33m.\u001b[0m\u001b[0mappend\u001b[0m\u001b[1;33m(\u001b[0m\u001b[0msample_nums\u001b[0m\u001b[1;33m,\u001b[0m \u001b[1;33m[\u001b[0m\u001b[0ms_num\u001b[0m\u001b[1;33m]\u001b[0m\u001b[1;33m)\u001b[0m\u001b[1;33m\u001b[0m\u001b[0m\n\u001b[0;32m     11\u001b[0m     \u001b[1;32mfor\u001b[0m \u001b[0mj\u001b[0m \u001b[1;32min\u001b[0m \u001b[0mrange\u001b[0m\u001b[1;33m(\u001b[0m\u001b[0mtest_per_trail\u001b[0m\u001b[1;33m)\u001b[0m\u001b[1;33m:\u001b[0m\u001b[1;33m\u001b[0m\u001b[0m\n\u001b[1;32m---> 12\u001b[1;33m         \u001b[0mdistr_1\u001b[0m \u001b[1;33m=\u001b[0m \u001b[0mavg_distr\u001b[0m\u001b[1;33m(\u001b[0m\u001b[0ma_1\u001b[0m\u001b[1;33m,\u001b[0m \u001b[0mb_1\u001b[0m\u001b[1;33m,\u001b[0m \u001b[0mw_1\u001b[0m\u001b[1;33m,\u001b[0m \u001b[0ms_num\u001b[0m\u001b[1;33m,\u001b[0m \u001b[0minit_v\u001b[0m\u001b[1;33m)\u001b[0m\u001b[1;33m\u001b[0m\u001b[0m\n\u001b[0m\u001b[0;32m     13\u001b[0m         \u001b[0mdistr_2\u001b[0m \u001b[1;33m=\u001b[0m \u001b[0mavg_distr\u001b[0m\u001b[1;33m(\u001b[0m\u001b[0ma_2\u001b[0m\u001b[1;33m,\u001b[0m \u001b[0mb_2\u001b[0m\u001b[1;33m,\u001b[0m \u001b[0mw_2\u001b[0m\u001b[1;33m,\u001b[0m \u001b[0ms_num\u001b[0m\u001b[1;33m,\u001b[0m \u001b[0minit_v\u001b[0m\u001b[1;33m)\u001b[0m\u001b[1;33m\u001b[0m\u001b[0m\n\u001b[0;32m     14\u001b[0m         \u001b[0mdistr_K\u001b[0m \u001b[1;33m=\u001b[0m \u001b[0mavg_distr\u001b[0m\u001b[1;33m(\u001b[0m\u001b[0ma_K\u001b[0m\u001b[1;33m,\u001b[0m \u001b[0mb_K\u001b[0m\u001b[1;33m,\u001b[0m \u001b[0mw_K\u001b[0m\u001b[1;33m,\u001b[0m \u001b[0ms_num\u001b[0m\u001b[1;33m,\u001b[0m \u001b[0minit_v\u001b[0m\u001b[1;33m)\u001b[0m\u001b[1;33m\u001b[0m\u001b[0m\n",
      "\u001b[1;32m<ipython-input-9-8be95a75bc8e>\u001b[0m in \u001b[0;36mavg_distr\u001b[1;34m(a, b, w, sample_num, init_v)\u001b[0m\n\u001b[0;32m      1\u001b[0m \u001b[1;32mdef\u001b[0m \u001b[0mavg_distr\u001b[0m\u001b[1;33m(\u001b[0m\u001b[0ma\u001b[0m\u001b[1;33m,\u001b[0m \u001b[0mb\u001b[0m\u001b[1;33m,\u001b[0m \u001b[0mw\u001b[0m\u001b[1;33m,\u001b[0m \u001b[0msample_num\u001b[0m\u001b[1;33m,\u001b[0m \u001b[0minit_v\u001b[0m\u001b[1;33m)\u001b[0m\u001b[1;33m:\u001b[0m\u001b[1;33m\u001b[0m\u001b[0m\n\u001b[1;32m----> 2\u001b[1;33m     \u001b[0mgibbs_v\u001b[0m \u001b[1;33m=\u001b[0m \u001b[0mnp\u001b[0m\u001b[1;33m.\u001b[0m\u001b[0mzeros\u001b[0m\u001b[1;33m(\u001b[0m\u001b[1;33m(\u001b[0m\u001b[0msample_num\u001b[0m\u001b[1;33m,\u001b[0m \u001b[0ma\u001b[0m\u001b[1;33m.\u001b[0m\u001b[0mshape\u001b[0m\u001b[1;33m[\u001b[0m\u001b[1;36m0\u001b[0m\u001b[1;33m]\u001b[0m\u001b[1;33m)\u001b[0m\u001b[1;33m)\u001b[0m\u001b[1;33m\u001b[0m\u001b[0m\n\u001b[0m\u001b[0;32m      3\u001b[0m     \u001b[0mgibbs_v\u001b[0m\u001b[1;33m[\u001b[0m\u001b[1;36m0\u001b[0m\u001b[1;33m]\u001b[0m \u001b[1;33m=\u001b[0m \u001b[0minit_v\u001b[0m\u001b[1;33m\u001b[0m\u001b[0m\n\u001b[0;32m      4\u001b[0m     \u001b[1;32mfor\u001b[0m \u001b[0mg_step\u001b[0m \u001b[1;32min\u001b[0m \u001b[0mrange\u001b[0m\u001b[1;33m(\u001b[0m\u001b[1;36m1\u001b[0m\u001b[1;33m,\u001b[0m \u001b[0msample_num\u001b[0m\u001b[1;33m)\u001b[0m\u001b[1;33m:\u001b[0m\u001b[1;33m\u001b[0m\u001b[0m\n\u001b[0;32m      5\u001b[0m         \u001b[0mgibbs_h\u001b[0m \u001b[1;33m=\u001b[0m \u001b[0msigmoid_sampling\u001b[0m\u001b[1;33m(\u001b[0m\u001b[0mgibbs_v\u001b[0m\u001b[1;33m[\u001b[0m\u001b[0mg_step\u001b[0m\u001b[1;33m-\u001b[0m\u001b[1;36m1\u001b[0m\u001b[1;33m]\u001b[0m\u001b[1;33m,\u001b[0m \u001b[0mw\u001b[0m\u001b[1;33m,\u001b[0m \u001b[0mb\u001b[0m\u001b[1;33m)\u001b[0m\u001b[1;33m\u001b[0m\u001b[0m\n",
      "\u001b[1;31mMemoryError\u001b[0m: "
     ]
    }
   ],
   "source": [
    "for i in range(5, trail_num):\n",
    "    s_num = pow(10, i+1)\n",
    "    sample_nums = np.append(sample_nums, [s_num])\n",
    "    for j in range(test_per_trail):\n",
    "        distr_1 = avg_distr(a_1, b_1, w_1, s_num, init_v)\n",
    "        distr_2 = avg_distr(a_2, b_2, w_2, s_num, init_v)\n",
    "        distr_K = avg_distr(a_K, b_K, w_K, s_num, init_v)\n",
    "        \n",
    "        dis_matrix1[j, i] = np.sum(np.abs(dis_D-distr_1))\n",
    "        dis_matrix2[j, i] = np.sum(np.abs(dis_D-distr_2))\n",
    "        dis_matrixK[j, i] = np.sum(np.abs(dis_D-distr_K))"
   ]
  },
  {
   "cell_type": "code",
   "execution_count": 113,
   "metadata": {
    "collapsed": false
   },
   "outputs": [],
   "source": [
    "plt.clf()\n",
    "plot_error_distr(sample_nums, dis_matrix1, 'CD_1')\n",
    "plot_error_distr(sample_nums, dis_matrix2, 'CD_2')\n",
    "plot_error_distr(sample_nums, dis_matrixK, 'CD_1K')\n",
    "plt.xlabel('Sampling Number')\n",
    "plt.ylabel('Errors (%)')\n",
    "plt.title('Average Distribution Error of Sampling Sequence')\n",
    "plt.grid('on')\n",
    "#plt.savefig('train_short.pdf')\n",
    "plt.show()"
   ]
  },
  {
   "cell_type": "code",
   "execution_count": 114,
   "metadata": {
    "collapsed": true
   },
   "outputs": [],
   "source": [
    "def plot_error_distr(sample_nums, dis_matrix, clabel, **kwargs):\n",
    "    ax = kwargs.pop('ax', plt.gca())\n",
    "    mmax = np.max(dis_matrix,0)/7.84\n",
    "    mmin = np.min(dis_matrix,0)/7.84\n",
    "    avg = np.average(dis_matrix,0)/7.84\n",
    "    base_line, = ax.semilogx(sample_nums, avg, linewidth = 2., label = clabel, **kwargs)\n",
    "    ax.fill_between(sample_nums, mmax, mmin, facecolor=base_line.get_color(), alpha=.4, linewidth=0)\n",
    "    legend = ax.legend(loc='upper center', shadow=True)"
   ]
  },
  {
   "cell_type": "code",
   "execution_count": 98,
   "metadata": {
    "collapsed": false
   },
   "outputs": [
    {
     "name": "stdout",
     "output_type": "stream",
     "text": [
      "0.800922509225\n"
     ]
    }
   ],
   "source": [
    "print max(dis_D)"
   ]
  },
  {
   "cell_type": "code",
   "execution_count": null,
   "metadata": {
    "collapsed": true
   },
   "outputs": [],
   "source": []
  }
 ],
 "metadata": {
  "kernelspec": {
   "display_name": "Python 2",
   "language": "python",
   "name": "python2"
  },
  "language_info": {
   "codemirror_mode": {
    "name": "ipython",
    "version": 2
   },
   "file_extension": ".py",
   "mimetype": "text/x-python",
   "name": "python",
   "nbconvert_exporter": "python",
   "pygments_lexer": "ipython2",
   "version": "2.7.6"
  }
 },
 "nbformat": 4,
 "nbformat_minor": 0
}
