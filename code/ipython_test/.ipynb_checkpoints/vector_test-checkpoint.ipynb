{
 "cells": [
  {
   "cell_type": "code",
   "execution_count": 1,
   "metadata": {
    "collapsed": true
   },
   "outputs": [],
   "source": [
    "import numpy as np\n",
    "import matplotlib.pyplot as plt\n",
    "import poisson_tools as pt\n",
    "from scipy.optimize import curve_fit\n",
    "from scipy.special import expit"
   ]
  },
  {
   "cell_type": "code",
   "execution_count": 2,
   "metadata": {
    "collapsed": true
   },
   "outputs": [],
   "source": [
    "def sigmoid_sampling(data, weight, bias):\n",
    "    sum_data = np.dot(data, weight) + bias\n",
    "    prob = expit(sum_data)\n",
    "    rdm = np.random.random(prob.shape)\n",
    "    index_on = rdm < prob\n",
    "    samples = np.zeros(prob.shape)\n",
    "    samples[index_on]=1.\n",
    "    return samples\n",
    "\n",
    "def sampling_k(a, b, w, sample_num, init_v):\n",
    "    gibbs_v = np.zeros((sample_num, a.shape[0]))\n",
    "    gibbs_h = np.zeros((sample_num, b.shape[0]))\n",
    "    gibbs_v[0] = init_v\n",
    "    for g_step in range(1, sample_num):\n",
    "        gibbs_h[g_step-1] = sigmoid_sampling(gibbs_v[g_step-1], w, b)\n",
    "        gibbs_v[g_step] = sigmoid_sampling(gibbs_h[g_step-1], w.transpose(), a)\n",
    "    gibbs_h[-1] = sigmoid_sampling(gibbs_v[-2], w, b)\n",
    "    return gibbs_v, gibbs_h\n",
    "\n",
    "def matrix_times(m, n):\n",
    "    m_matrix = np.transpose(np.tile(m,(len(n), 1)))\n",
    "    n_matrix = np.tile(n,(len(m), 1))\n",
    "    return m_matrix*n_matrix"
   ]
  },
  {
   "cell_type": "code",
   "execution_count": 3,
   "metadata": {
    "collapsed": true
   },
   "outputs": [],
   "source": [
    "def update_cd1(a, b, W, Data_v):\n",
    "    max_bsize = Data_v.shape[0]\n",
    "    for i in range (max_bsize):\n",
    "        data_h = sigmoid_sampling(Data_v[i], W, b)\n",
    "        gibbs_v = sigmoid_sampling(data_h, W.transpose(), a)\n",
    "        gibbs_h = sigmoid_sampling(gibbs_v, W, b)\n",
    "        delta_a = eta * (Data_v[i] - gibbs_v)\n",
    "        delta_b = eta * (data_h - gibbs_h)\n",
    "        delta_w = eta * (matrix_times(Data_v[i], data_h) - matrix_times(gibbs_v, gibbs_h))\n",
    "        a += delta_a\n",
    "        b += delta_b\n",
    "        W += delta_w\n",
    "    return a, b, W"
   ]
  },
  {
   "cell_type": "code",
   "execution_count": 4,
   "metadata": {
    "collapsed": true
   },
   "outputs": [],
   "source": [
    "def update_cdk(a, b, w, data_v, cd_size):\n",
    "    max_bsize = data_v.shape[0]\n",
    "    ind_rdm = int(np.floor(np.random.random()*max_bsize))\n",
    "    init_v = data_v[ind_rdm]\n",
    "    gibbs_v, gibbs_h = sampling_k(a, b, w, cd_size, init_v)\n",
    "    avg_h = []\n",
    "    for vd in range(max_bsize):\n",
    "        data_h = np.zeros((cd_size, b.shape[0]))\n",
    "        for h in range(cd_size):\n",
    "            data_h[h] = sigmoid_sampling(data_v[vd], w, b)\n",
    "        avg_h.append(np.average(data_h, axis=0))\n",
    "    \n",
    "    \n",
    "    delta_a = eta * (np.average(data_v,0) - np.average(gibbs_v,0))\n",
    "    delta_b = eta * (np.average(avg_h,0) - np.average(gibbs_h,0))\n",
    "    pos_delta_w = np.zeros(w.shape)\n",
    "    neg_delta_w = np.zeros(w.shape)\n",
    "    for vd in range(max_bsize):\n",
    "        pos_delta_w += matrix_times(data_v[vd], avg_h[vd])\n",
    "    for gstep in range(cd_size):\n",
    "        neg_delta_w += matrix_times(gibbs_v[gstep], gibbs_h[gstep])    \n",
    "    a += delta_a\n",
    "    b += delta_b\n",
    "    w += eta * pos_delta_w/np.float(max_bsize)\n",
    "    w -= eta * neg_delta_w/np.float(cd_size)\n",
    "    return a, b, w"
   ]
  },
  {
   "cell_type": "code",
   "execution_count": 5,
   "metadata": {
    "collapsed": true
   },
   "outputs": [],
   "source": [
    "def gauss(x, A, mu, sigma):\n",
    "    return A*np.exp(-(x-mu)**2/(2.*sigma**2))"
   ]
  },
  {
   "cell_type": "code",
   "execution_count": 79,
   "metadata": {
    "collapsed": false
   },
   "outputs": [],
   "source": [
    "def plot_gibbs(a, b, W, step_num, init_v, title):\n",
    "    slist_v, slist_h = sampling_k(a, b, W, step_num, init_v)\n",
    "    gibbs = []\n",
    "    for i in range(train_num):\n",
    "        arr = slist_v[i]\n",
    "        front = np.argmax(arr)\n",
    "        back = np.argmax(arr[::-1])\n",
    "        if front + back == 9:\n",
    "            gibbs.append(front)\n",
    "        else:\n",
    "            gibbs.append(-1)\n",
    "    his = np.histogram(gibbs, bins=np.array(range(digit_num+1))-0.5)\n",
    "    plt.bar(np.array(range(digit_num))-0.5, his[0], width=np.average(his[1][1:] - his[1][:-1]))\n",
    "    #parameters, cov_matrix = curve_fit(gauss, np.array(range(digit_num)), his[0])\n",
    "    #x_plot = np.linspace(-1, 11, 1000)\n",
    "\n",
    "    #plt.plot(x_plot, gauss(x_plot, *parameters), 'r-', lw=2)\n",
    "    plt.title(title)\n",
    "    plt.xlabel('Digits')\n",
    "    plt.ylabel('Counts')\n",
    "    plt.ylim((0,300))\n",
    "    plt.draw()\n",
    "    plt.savefig('plot/gibbs_%s.pdf'%title)\n",
    "    plt.show()"
   ]
  },
  {
   "cell_type": "code",
   "execution_count": 7,
   "metadata": {
    "collapsed": true
   },
   "outputs": [],
   "source": [
    "train_num = 1000\n",
    "digit_num = 10\n",
    "np.random.seed(0)"
   ]
  },
  {
   "cell_type": "code",
   "execution_count": 60,
   "metadata": {
    "collapsed": true
   },
   "outputs": [],
   "source": [
    "mu, sigma = 5., 5./3. # mean and standard deviation\n",
    "s = np.random.normal(mu, sigma, train_num*2)\n",
    "s = np.floor(s)\n",
    "ind = np.where((s>=0.) & (s<digit_num) )\n",
    "train_Data = s[ind[0][:train_num]]"
   ]
  },
  {
   "cell_type": "code",
   "execution_count": 8,
   "metadata": {
    "collapsed": false
   },
   "outputs": [],
   "source": [
    "train_Data = np.floor(np.random.rand(1000)*10.)"
   ]
  },
  {
   "cell_type": "code",
   "execution_count": 78,
   "metadata": {
    "collapsed": false
   },
   "outputs": [],
   "source": [
    "his = np.histogram(train_Data, bins=np.array(range(digit_num+1))-0.5)\n",
    "plt.bar(np.array(range(digit_num))-0.5, his[0], width=np.average(his[1][1:] - his[1][:-1]))\n",
    "parameters, cov_matrix = curve_fit(gauss, np.array(range(digit_num)), his[0])\n",
    "x_plot = np.linspace(-1, 11, 1000)\n",
    "plt.plot(x_plot, gauss(x_plot, *parameters), 'g-', lw=2)\n",
    "plt.ylim((0,300))\n",
    "plt.title('Training Data Distribution')\n",
    "plt.xlabel('Digits')\n",
    "plt.ylabel('Counts')\n",
    "plt.draw()\n",
    "plt.savefig('plot/train_data.pdf')\n",
    "plt.show()\n"
   ]
  },
  {
   "cell_type": "code",
   "execution_count": 62,
   "metadata": {
    "collapsed": false
   },
   "outputs": [],
   "source": [
    "train_Data = train_Data.astype(int)\n",
    "Data_v = np.zeros((train_num, digit_num))\n",
    "for i in range(train_num):\n",
    "    Data_v[i][train_Data[i]] = 1."
   ]
  },
  {
   "cell_type": "code",
   "execution_count": 27,
   "metadata": {
    "collapsed": false
   },
   "outputs": [],
   "source": [
    "hiden_num = digit_num\n",
    "init_W = np.random.normal(0,0.01,Data_v.shape[1]*hiden_num)\n",
    "init_W = init_W.reshape((Data_v.shape[1],hiden_num))\n",
    "init_b = np.zeros(hiden_num)\n",
    "init_a = np.zeros(digit_num)\n",
    "#pixel_on = np.sum(Data_v,0)\n",
    "#init_a = np.log((pixel_on + 0.01)/(train_num - pixel_on + 0.01))"
   ]
  },
  {
   "cell_type": "code",
   "execution_count": 37,
   "metadata": {
    "collapsed": false
   },
   "outputs": [],
   "source": [
    "cd_step = 1000\n",
    "eta = 0.001\n",
    "a = np.copy(init_a)\n",
    "b = np.copy(init_b)\n",
    "W = np.copy(init_W)\n",
    "for i in range(10000):\n",
    "    if np.mod(i, 100)==0:\n",
    "        title = 'cdk_%d'%i\n",
    "        plot_gibbs(a, b, W, train_num, [1., 0., 0., 0., 0., 0., 0., 0., 0., 0.],title )\n",
    "    a, b, W = update_cdk(a, b, W, Data_v, cd_step)\n",
    "    "
   ]
  },
  {
   "cell_type": "code",
   "execution_count": 84,
   "metadata": {
    "collapsed": false
   },
   "outputs": [],
   "source": [
    "eta = 0.001\n",
    "a = np.copy(init_a)\n",
    "b = np.copy(init_b)\n",
    "W = np.copy(init_W)\n",
    "for i in range(10):\n",
    "    title = 'cd1_%d'%(i*train_num)\n",
    "    plot_gibbs(a, b, W, train_num, [1., 0., 0., 0., 0., 0., 0., 0., 0., 0.],title )\n",
    "    a, b, W = update_cd1(a, b, W, Data_v)"
   ]
  },
  {
   "cell_type": "code",
   "execution_count": 53,
   "metadata": {
    "collapsed": false
   },
   "outputs": [
    {
     "name": "stdout",
     "output_type": "stream",
     "text": [
      "[[ 0.  0.  0.  0.  0.  0.  0.  0.  0.  1.]\n",
      " [ 1.  0.  0.  0.  0.  0.  0.  0.  0.  0.]\n",
      " [ 0.  0.  0.  0.  0.  0.  0.  0.  1.  0.]\n",
      " [ 0.  0.  0.  0.  0.  1.  0.  0.  0.  0.]\n",
      " [ 0.  0.  0.  0.  0.  0.  0.  1.  0.  0.]\n",
      " [ 0.  0.  0.  0.  1.  0.  0.  0.  0.  0.]\n",
      " [ 1.  0.  0.  0.  0.  0.  0.  0.  0.  0.]\n",
      " [ 1.  0.  0.  0.  0.  0.  0.  0.  0.  0.]\n",
      " [ 0.  0.  0.  0.  1.  0.  0.  0.  0.  0.]\n",
      " [ 0.  0.  1.  1.  0.  1.  0.  0.  0.  0.]] [5 7 6 5 4 6 4 8 9 3]\n"
     ]
    }
   ],
   "source": [
    "test = range(10)\n",
    "data_v = Data_v[test]\n",
    "data_h = sigmoid_sampling(data_v, W, b)\n",
    "recon = sigmoid_sampling(data_h, W.transpose(), a)\n",
    "print recon, train_Data[test]"
   ]
  },
  {
   "cell_type": "code",
   "execution_count": 54,
   "metadata": {
    "collapsed": true
   },
   "outputs": [],
   "source": [
    "plot_gibbs(a, b, W, train_num*10, [1., 0., 0., 0., 0., 0., 0., 0., 0., 0.] )"
   ]
  },
  {
   "cell_type": "code",
   "execution_count": 55,
   "metadata": {
    "collapsed": false
   },
   "outputs": [],
   "source": [
    "np.save('cd1_10k_a.npy',a)\n",
    "np.save('cd1_10k_b.npy',b)\n",
    "np.save('cd1_10k_w.npy',W)"
   ]
  },
  {
   "cell_type": "code",
   "execution_count": 58,
   "metadata": {
    "collapsed": false
   },
   "outputs": [],
   "source": [
    "import matplotlib.cm as cm\n",
    "plt.imshow(W, cmap=cm.gray_r,interpolation='none')\n",
    "plt.show()"
   ]
  },
  {
   "cell_type": "code",
   "execution_count": null,
   "metadata": {
    "collapsed": true
   },
   "outputs": [],
   "source": []
  }
 ],
 "metadata": {
  "kernelspec": {
   "display_name": "Python 2",
   "language": "python",
   "name": "python2"
  },
  "language_info": {
   "codemirror_mode": {
    "name": "ipython",
    "version": 2
   },
   "file_extension": ".py",
   "mimetype": "text/x-python",
   "name": "python",
   "nbconvert_exporter": "python",
   "pygments_lexer": "ipython2",
   "version": "2.7.6"
  }
 },
 "nbformat": 4,
 "nbformat_minor": 0
}
